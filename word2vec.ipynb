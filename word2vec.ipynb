{
 "cells": [
  {
   "cell_type": "markdown",
   "metadata": {
    "pycharm": {
     "name": "#%% md\n"
    }
   },
   "source": [
    "# Final Assignment - Word2Vec"
   ]
  },
  {
   "cell_type": "markdown",
   "metadata": {
    "pycharm": {
     "name": "#%% md\n"
    }
   },
   "source": [
    "#### Imports"
   ]
  },
  {
   "cell_type": "code",
   "execution_count": 1,
   "metadata": {
    "pycharm": {
     "is_executing": true
    }
   },
   "outputs": [],
   "source": [
    "from pathlib import Path\n",
    "\n",
    "import numpy as np\n",
    "import tensorflow as tf\n",
    "from tensorflow.keras import layers, models\n",
    "import tqdm"
   ]
  },
  {
   "cell_type": "markdown",
   "metadata": {
    "pycharm": {
     "name": "#%% md\n"
    }
   },
   "source": [
    "#### Constants"
   ]
  },
  {
   "cell_type": "code",
   "execution_count": 2,
   "metadata": {
    "pycharm": {
     "name": "#%%\n"
    }
   },
   "outputs": [],
   "source": [
    "SEED = 42\n",
    "AUTOTUNE = tf.data.AUTOTUNE\n",
    "\n",
    "WINDOW_SIZE = 5\n",
    "NUM_NS = 15"
   ]
  },
  {
   "cell_type": "markdown",
   "metadata": {
    "pycharm": {
     "name": "#%% md\n"
    }
   },
   "source": [
    "## Preprocessing - Preparing the dataset"
   ]
  },
  {
   "cell_type": "code",
   "execution_count": 18,
   "metadata": {
    "pycharm": {
     "name": "#%%\n"
    }
   },
   "outputs": [],
   "source": [
    "file_path = \"reviews_data.txt\"\n",
    "with open(file_path, 'r', encoding='utf-8') as f:\n",
    "    lines = f.read().splitlines()"
   ]
  },
  {
   "cell_type": "markdown",
   "metadata": {
    "pycharm": {
     "name": "#%% md\n"
    }
   },
   "source": [
    "Print the first few lines:"
   ]
  },
  {
   "cell_type": "code",
   "execution_count": 19,
   "metadata": {
    "pycharm": {
     "name": "#%%\n"
    }
   },
   "outputs": [
    {
     "name": "stdout",
     "output_type": "stream",
     "text": [
      "oct nice trendy hotel location not too bad stayed in this hotel for one night as this is fairly new place some of the taxi drivers did not know where it was and or did not want to drive there once have eventually arrived at the hotel was very pleasantly surprised with the decor of the lobby ground floor area it was very stylish and modern found the reception staff geeting me with aloha bit out of place but guess they are briefed to say that to keep up the coroporate image as have starwood preferred guest member was given small gift upon check in it was only couple of fridge magnets in gift box but nevertheless nice gesture my room was nice and roomy there are tea and coffee facilities in each room and you get two complimentary bottles of water plus some toiletries by bliss the location is not great it is at the last metro stop and you then need to take taxi but if you are not planning on going to see the historic sites in beijing then you will be ok chose to have some breakfast in the hotel which was really tasty and there was good selection of dishes there are couple of computers to use in the communal area as well as pool table there is also small swimming pool and gym area would definitely stay in this hotel again but only if did not plan to travel to central beijing as it can take long time the location is ok if you plan to do lot of shopping as there is big shopping centre just few minutes away from the hotel and there are plenty of eating options around including restaurants that serve dog meat\n",
      "sep great budget hotel stayed two nights at aloft on the most recent trip to china the hotel was very modern and clean the room was spotless and comfortable king sized bed as far as soft beds go in china the staff was very punctual and went out of the way to help my every need including going to store across the street to purchase china mobile sim card for me the buffet breakfast was okay nothing to write home about the lcd screen had movies on demand for rmb and had good selection of western channels including hbo cnn bbc star world etc the gym was small had selection of basic weights and one cable machine there was however new technogym cardio machines with built in lcd tvs which were very good the location is bit out of the way to the central areas of beijing but it is better suited for my needs as need to be in the haidian district being spg platinum there were no upgrades to better room because aloft has policy of not doing any upgrades the sheraton next door is much nicer hotel in my opinion where am writing this from now with an upgraded room but as far as bang for the buck aloft is great place\n",
      "aug excellent value location not big problem we stayed at the aloft beijing haidian for nights from july nd there are lots of reviews that talk about the location being problem but we knew this ahead of time and found that it really wasn an issue the longest we spent in taxi was about minutes we never paid more than rmb for taxi ride which is about cdn and that was to the forbidden city given there are in our family it was no big deal at all as for the rooms they were clean the beds comfortable the wireless internet connection reliable and it was one of the few hotels we found in beijing that would accomodate adults and children we paid about cdn per night that an amazing price it not meant to be star hotel so you can go in expecting that we found the reception staff generally very helpful and friendly they aren the fastest in the world but it wasn unreasonable at all the hotel manager made an effort to speak with us few times and was extremely helpful and welcoming their breakfast buffet was quite good and reasonably priced there are number of good restaurants in the four points sheraton next door so there were lots of options there is massive mall about block away that has other dining options as well the only issue we ran into was few taxi drivers refusing to take us to the summer palace because guess they felt it wasn far enough the minimum rate is rmb but the staff at the four points sheraton which is on busier road than the side street for aloft were quite helpful in finding taxis for us if they weren already there we would definitely stay there again and recommend it to our friends for its excellent value\n"
     ]
    }
   ],
   "source": [
    "for line in lines[:3]:\n",
    "    print(line)"
   ]
  },
  {
   "cell_type": "markdown",
   "metadata": {
    "pycharm": {
     "name": "#%% md\n"
    }
   },
   "source": [
    "So, it seems like the reviews data is already all lower case and with no punctuation.\n",
    "Let us find the vocabulary size first, and determine which words we want to subsample:"
   ]
  },
  {
   "cell_type": "code",
   "execution_count": 20,
   "metadata": {
    "pycharm": {
     "name": "#%%\n"
    }
   },
   "outputs": [],
   "source": [
    "seq_lengths = []\n",
    "\n",
    "from collections import defaultdict\n",
    "word_frequencies = defaultdict(int)\n",
    "\n",
    "for line in lines:\n",
    "    words = line.split()\n",
    "    seq_lengths.append(len(words))\n",
    "    for word in words:\n",
    "        word_frequencies[word] += 1"
   ]
  },
  {
   "cell_type": "code",
   "execution_count": 21,
   "metadata": {
    "pycharm": {
     "name": "#%%\n"
    }
   },
   "outputs": [
    {
     "data": {
      "text/plain": [
       "[('the', 2812098),\n",
       " ('and', 1472767),\n",
       " ('to', 1077721),\n",
       " ('was', 903010),\n",
       " ('in', 748274),\n",
       " ('we', 660041),\n",
       " ('of', 614458),\n",
       " ('hotel', 565672),\n",
       " ('for', 544389),\n",
       " ('is', 528043)]"
      ]
     },
     "execution_count": 21,
     "metadata": {},
     "output_type": "execute_result"
    }
   ],
   "source": [
    "sorted_word_frequencies = sorted(word_frequencies.items(), reverse=True, key=lambda item: item[1])\n",
    "sorted_word_frequencies[-10:]"
   ]
  },
  {
   "cell_type": "code",
   "execution_count": 22,
   "metadata": {
    "pycharm": {
     "name": "#%%\n"
    }
   },
   "outputs": [
    {
     "data": {
      "text/plain": [
       "[('the', 2812098),\n",
       " ('and', 1472767),\n",
       " ('to', 1077721),\n",
       " ('was', 903010),\n",
       " ('in', 748274),\n",
       " ('we', 660041),\n",
       " ('of', 614458),\n",
       " ('hotel', 565672),\n",
       " ('for', 544389),\n",
       " ('is', 528043)]"
      ]
     },
     "execution_count": 22,
     "metadata": {},
     "output_type": "execute_result"
    }
   ],
   "source": [
    "filtered_sorted_word_frequencies = list(filter(lambda t: t[1] > 4, sorted_word_frequencies))\n",
    "filtered_sorted_word_frequencies[-10:]"
   ]
  },
  {
   "cell_type": "code",
   "execution_count": 23,
   "metadata": {
    "pycharm": {
     "name": "#%%\n"
    }
   },
   "outputs": [
    {
     "name": "stdout",
     "output_type": "stream",
     "text": [
      "['i', 'me', 'my', 'myself', 'we', 'our', 'ours', 'ourselves', 'you', \"you're\", \"you've\", \"you'll\", \"you'd\", 'your', 'yours', 'yourself', 'yourselves', 'he', 'him', 'his', 'himself', 'she', \"she's\", 'her', 'hers', 'herself', 'it', \"it's\", 'its', 'itself', 'they', 'them', 'their', 'theirs', 'themselves', 'what', 'which', 'who', 'whom', 'this', 'that', \"that'll\", 'these', 'those', 'am', 'is', 'are', 'was', 'were', 'be', 'been', 'being', 'have', 'has', 'had', 'having', 'do', 'does', 'did', 'doing', 'a', 'an', 'the', 'and', 'but', 'if', 'or', 'because', 'as', 'until', 'while', 'of', 'at', 'by', 'for', 'with', 'about', 'against', 'between', 'into', 'through', 'during', 'before', 'after', 'above', 'below', 'to', 'from', 'up', 'down', 'in', 'out', 'on', 'off', 'over', 'under', 'again', 'further', 'then', 'once', 'here', 'there', 'when', 'where', 'why', 'how', 'all', 'any', 'both', 'each', 'few', 'more', 'most', 'other', 'some', 'such', 'no', 'nor', 'not', 'only', 'own', 'same', 'so', 'than', 'too', 'very', 's', 't', 'can', 'will', 'just', 'don', \"don't\", 'should', \"should've\", 'now', 'd', 'll', 'm', 'o', 're', 've', 'y', 'ain', 'aren', \"aren't\", 'couldn', \"couldn't\", 'didn', \"didn't\", 'doesn', \"doesn't\", 'hadn', \"hadn't\", 'hasn', \"hasn't\", 'haven', \"haven't\", 'isn', \"isn't\", 'ma', 'mightn', \"mightn't\", 'mustn', \"mustn't\", 'needn', \"needn't\", 'shan', \"shan't\", 'shouldn', \"shouldn't\", 'wasn', \"wasn't\", 'weren', \"weren't\", 'won', \"won't\", 'wouldn', \"wouldn't\"]\n"
     ]
    },
    {
     "name": "stderr",
     "output_type": "stream",
     "text": [
      "[nltk_data] Downloading package stopwords to\n",
      "[nltk_data]     C:\\Users\\misha\\AppData\\Roaming\\nltk_data...\n",
      "[nltk_data]   Package stopwords is already up-to-date!\n"
     ]
    }
   ],
   "source": [
    "import nltk\n",
    "from nltk.corpus import stopwords\n",
    "nltk.download('stopwords')\n",
    "stop_words = stopwords.words('english')\n",
    "print(stop_words)"
   ]
  },
  {
   "cell_type": "code",
   "execution_count": 24,
   "metadata": {
    "pycharm": {
     "name": "#%%\n"
    }
   },
   "outputs": [],
   "source": [
    "filtered_sorted_word_frequencies = list(filter(lambda t: t[0] not in stop_words, filtered_sorted_word_frequencies))"
   ]
  },
  {
   "cell_type": "code",
   "execution_count": 25,
   "metadata": {
    "pycharm": {
     "name": "#%%\n"
    }
   },
   "outputs": [],
   "source": [
    "vocab_by_freq, freq = zip(*filtered_sorted_word_frequencies)"
   ]
  },
  {
   "cell_type": "code",
   "execution_count": 26,
   "metadata": {
    "pycharm": {
     "name": "#%%\n"
    }
   },
   "outputs": [],
   "source": [
    "VOCAB_SIZE = len(vocab_by_freq)\n",
    "MAX_SEQ_LEN = int(np.mean(seq_lengths) + np.std(seq_lengths))"
   ]
  },
  {
   "cell_type": "code",
   "execution_count": 27,
   "metadata": {
    "pycharm": {
     "name": "#%%\n"
    }
   },
   "outputs": [
    {
     "name": "stdout",
     "output_type": "stream",
     "text": [
      "VOCAB_SIZE=38436, MAX_SEQ_LEN=306\n"
     ]
    }
   ],
   "source": [
    "print(f'VOCAB_SIZE={VOCAB_SIZE}, MAX_SEQ_LEN={MAX_SEQ_LEN}')"
   ]
  },
  {
   "cell_type": "code",
   "execution_count": 28,
   "metadata": {
    "pycharm": {
     "name": "#%%\n"
    }
   },
   "outputs": [],
   "source": [
    "text_ds = tf.data.TextLineDataset(file_path)"
   ]
  },
  {
   "cell_type": "markdown",
   "metadata": {
    "pycharm": {
     "name": "#%% md\n"
    }
   },
   "source": [
    "Now, we will vectorize the vocabulary using a `tf.keras.layers.TextVectorization` layer."
   ]
  },
  {
   "cell_type": "code",
   "execution_count": 29,
   "metadata": {
    "pycharm": {
     "name": "#%%\n"
    }
   },
   "outputs": [],
   "source": [
    "vectorize_layer = layers.TextVectorization(\n",
    "    max_tokens=VOCAB_SIZE + 2,\n",
    "    output_mode='int',\n",
    "    output_sequence_length=MAX_SEQ_LEN,\n",
    "    vocabulary=vocab_by_freq)\n",
    "\n",
    "# vectorize_layer.adapt(text_ds.batch(1024))"
   ]
  },
  {
   "cell_type": "markdown",
   "metadata": {
    "pycharm": {
     "name": "#%% md\n"
    }
   },
   "source": [
    "Save the inverse vocabulary to look it up later:"
   ]
  },
  {
   "cell_type": "code",
   "execution_count": 30,
   "metadata": {
    "pycharm": {
     "name": "#%%\n"
    }
   },
   "outputs": [
    {
     "name": "stdout",
     "output_type": "stream",
     "text": [
      "['', '[UNK]', 'hotel', 'room', 'great', 'stay', 'good', 'staff', 'would', 'location', 'rooms', 'one', 'nice', 'stayed', 'us', 'clean', 'night', 'quot', 'breakfast', 'service']\n"
     ]
    }
   ],
   "source": [
    "inverse_vocab = vectorize_layer.get_vocabulary()\n",
    "print(inverse_vocab[:20])"
   ]
  },
  {
   "cell_type": "code",
   "execution_count": 31,
   "metadata": {
    "pycharm": {
     "name": "#%%\n"
    }
   },
   "outputs": [],
   "source": [
    "import _pickle as pickle\n",
    "\n",
    "with open('inverse_vocab', 'wb') as f:\n",
    "    pickle.dump(inverse_vocab, f)"
   ]
  },
  {
   "cell_type": "code",
   "execution_count": null,
   "metadata": {
    "pycharm": {
     "name": "#%%\n",
     "is_executing": true
    }
   },
   "outputs": [],
   "source": [
    "# Vectorize the data in text_ds.\n",
    "text_vector_ds = text_ds.batch(1024).prefetch(AUTOTUNE).map(vectorize_layer).unbatch()"
   ]
  },
  {
   "cell_type": "markdown",
   "metadata": {
    "pycharm": {
     "name": "#%% md\n"
    }
   },
   "source": [
    "### Obtain Sequences from the Dataset"
   ]
  },
  {
   "cell_type": "code",
   "execution_count": 56,
   "metadata": {
    "pycharm": {
     "name": "#%%\n"
    }
   },
   "outputs": [
    {
     "name": "stdout",
     "output_type": "stream",
     "text": [
      "255404\n"
     ]
    }
   ],
   "source": [
    "sequences = list(text_vector_ds.as_numpy_iterator())\n",
    "print(len(sequences))"
   ]
  },
  {
   "cell_type": "code",
   "execution_count": 57,
   "metadata": {
    "pycharm": {
     "name": "#%%\n"
    }
   },
   "outputs": [
    {
     "name": "stdout",
     "output_type": "stream",
     "text": [
      "[  122    12  1139     2     9     1     1   143    13     1     1     2\n",
      "     1    11    16     1     1     1   559    53    24     1     1     1\n",
      "   302  1625     1     1   193     1     1     1     1     1     1     1\n",
      "    85     1   933     1     1     1  1284   123     1     1     2     1\n",
      "     1   806   480     1     1   347     1     1    93   846    34    40\n",
      "     1     1     1  1191     1   217    73     1   138     7     1     1\n",
      "     1 12951    72     1     1    24     1   709     1     1 24543     1\n",
      "   125     1     1   455     1     1     1  4517     1     1  1881  1552\n",
      "   451   718     1   226    23  1609   382    43     1     1     1     1\n",
      "   240     1   450 20219     1  1609  1338     1  3167    12  4001     1\n",
      "     3     1    12     1  1415     1     1   265     1   103   371     1\n",
      "     1     3     1     1    20    36   397  1324     1   112   315     1\n",
      "   673     1  3405     1     9     1     1     4     1     1     1     1\n",
      "   174   574   367     1     1     1   134     1   119   302     1     1\n",
      "     1     1     1  1118     1   129     1   107     1  1851  1062     1\n",
      "   803     1     1     1     1   170   580     1     1     1    18     1\n",
      "     1     2     1     1    30  1434     1     1     1     6   605     1\n",
      "  1455     1     1   240     1  1529     1   115     1     1  4238    40\n",
      "     1    28     1    80   404     1     1    22    23  1035    80     1\n",
      "   546    40     8   114     5     1     1     2     1     1     1     1\n",
      "     1     1   772     1   327     1   156   803     1     1     1   119\n",
      "   161    21     1     9     1   170     1     1   772     1     1   163\n",
      "     1   186     1     1     1   106   186   479     1     1    92    65\n",
      "     1     1     2     1     1     1   273     1   868   780    55   377\n",
      "    97     1  1334  1993  2487     0     0     0     0     0     0     0\n",
      "     0     0     0     0     0     0] => ['oct', 'nice', 'trendy', 'hotel', 'location', '[UNK]', '[UNK]', 'bad', 'stayed', '[UNK]', '[UNK]', 'hotel', '[UNK]', 'one', 'night', '[UNK]', '[UNK]', '[UNK]', 'fairly', 'new', 'place', '[UNK]', '[UNK]', '[UNK]', 'taxi', 'drivers', '[UNK]', '[UNK]', 'know', '[UNK]', '[UNK]', '[UNK]', '[UNK]', '[UNK]', '[UNK]', '[UNK]', 'want', '[UNK]', 'drive', '[UNK]', '[UNK]', '[UNK]', 'eventually', 'arrived', '[UNK]', '[UNK]', 'hotel', '[UNK]', '[UNK]', 'pleasantly', 'surprised', '[UNK]', '[UNK]', 'decor', '[UNK]', '[UNK]', 'lobby', 'ground', 'floor', 'area', '[UNK]', '[UNK]', '[UNK]', 'stylish', '[UNK]', 'modern', 'found', '[UNK]', 'reception', 'staff', '[UNK]', '[UNK]', '[UNK]', 'aloha', 'bit', '[UNK]', '[UNK]', 'place', '[UNK]', 'guess', '[UNK]', '[UNK]', 'briefed', '[UNK]', 'say', '[UNK]', '[UNK]', 'keep', '[UNK]', '[UNK]', '[UNK]', 'image', '[UNK]', '[UNK]', 'starwood', 'preferred', 'guest', 'member', '[UNK]', 'given', 'small', 'gift', 'upon', 'check', '[UNK]', '[UNK]', '[UNK]', '[UNK]', 'couple', '[UNK]', 'fridge', 'magnets', '[UNK]', 'gift', 'box', '[UNK]', 'nevertheless', 'nice', 'gesture', '[UNK]', 'room', '[UNK]', 'nice', '[UNK]', 'roomy', '[UNK]', '[UNK]', 'tea', '[UNK]', 'coffee', 'facilities', '[UNK]', '[UNK]', 'room', '[UNK]', '[UNK]', 'get', 'two', 'complimentary', 'bottles', '[UNK]', 'water', 'plus', '[UNK]', 'toiletries', '[UNK]', 'bliss', '[UNK]', 'location', '[UNK]', '[UNK]', 'great', '[UNK]', '[UNK]', '[UNK]', '[UNK]', 'last', 'metro', 'stop', '[UNK]', '[UNK]', '[UNK]', 'need', '[UNK]', 'take', 'taxi', '[UNK]', '[UNK]', '[UNK]', '[UNK]', '[UNK]', 'planning', '[UNK]', 'going', '[UNK]', 'see', '[UNK]', 'historic', 'sites', '[UNK]', 'beijing', '[UNK]', '[UNK]', '[UNK]', '[UNK]', 'ok', 'chose', '[UNK]', '[UNK]', '[UNK]', 'breakfast', '[UNK]', '[UNK]', 'hotel', '[UNK]', '[UNK]', 'really', 'tasty', '[UNK]', '[UNK]', '[UNK]', 'good', 'selection', '[UNK]', 'dishes', '[UNK]', '[UNK]', 'couple', '[UNK]', 'computers', '[UNK]', 'use', '[UNK]', '[UNK]', 'communal', 'area', '[UNK]', 'well', '[UNK]', 'pool', 'table', '[UNK]', '[UNK]', 'also', 'small', 'swimming', 'pool', '[UNK]', 'gym', 'area', 'would', 'definitely', 'stay', '[UNK]', '[UNK]', 'hotel', '[UNK]', '[UNK]', '[UNK]', '[UNK]', '[UNK]', '[UNK]', 'plan', '[UNK]', 'travel', '[UNK]', 'central', 'beijing', '[UNK]', '[UNK]', '[UNK]', 'take', 'long', 'time', '[UNK]', 'location', '[UNK]', 'ok', '[UNK]', '[UNK]', 'plan', '[UNK]', '[UNK]', 'lot', '[UNK]', 'shopping', '[UNK]', '[UNK]', '[UNK]', 'big', 'shopping', 'centre', '[UNK]', '[UNK]', 'minutes', 'away', '[UNK]', '[UNK]', 'hotel', '[UNK]', '[UNK]', '[UNK]', 'plenty', '[UNK]', 'eating', 'options', 'around', 'including', 'restaurants', '[UNK]', 'serve', 'dog', 'meat', '', '', '', '', '', '', '', '', '', '', '', '', '']\n",
      "[  155     4   390     2    13    36    56     1 10294     1     1     1\n",
      "  1311    84     1   965     1     2     1     1   217     1    15     1\n",
      "     3     1   764     1    39   286   549    25     1   219     1   845\n",
      "    95    41     1   965     1     7     1     1 11802     1    94     1\n",
      "     1     1    90     1   321     1   101   134   377   129     1   512\n",
      "   185     1    50     1  2115   965  2843 13097   360     1     1     1\n",
      "   233    18     1   662   187     1  1260   271     1     1  1567   474\n",
      "     1  2132     1  3319     1  2121     1     1     6   605     1  1177\n",
      "   875   377  4613  4985  4468   165   489   120     1   546     1    23\n",
      "     1   605     1   420  3163     1    11   534   741     1     1    86\n",
      "    53 22737  4039  1065     1  1388     1  1567  1467     1     1     1\n",
      "     6     1     9     1    72     1     1     1    90     1     1   156\n",
      "   444     1   803     1     1     1    75  2090     1     1   445     1\n",
      "   134     1     1     1     1 24544   629     1  3584  2296     1     1\n",
      "     1  3259     1    75     3     1 10294     1  1907     1     1     1\n",
      "     1  3259     1  1173    54    89     1    49   751     2     1     1\n",
      "  1142     1     1  1895     1     1     1     1     1   412     3     1\n",
      "     1   219     1  2436     1     1  3426 10294     1     4    24     0\n",
      "     0     0     0     0     0     0     0     0     0     0     0     0\n",
      "     0     0     0     0     0     0     0     0     0     0     0     0\n",
      "     0     0     0     0     0     0     0     0     0     0     0     0\n",
      "     0     0     0     0     0     0     0     0     0     0     0     0\n",
      "     0     0     0     0     0     0     0     0     0     0     0     0\n",
      "     0     0     0     0     0     0     0     0     0     0     0     0\n",
      "     0     0     0     0     0     0     0     0     0     0     0     0\n",
      "     0     0     0     0     0     0] => ['sep', 'great', 'budget', 'hotel', 'stayed', 'two', 'nights', '[UNK]', 'aloft', '[UNK]', '[UNK]', '[UNK]', 'recent', 'trip', '[UNK]', 'china', '[UNK]', 'hotel', '[UNK]', '[UNK]', 'modern', '[UNK]', 'clean', '[UNK]', 'room', '[UNK]', 'spotless', '[UNK]', 'comfortable', 'king', 'sized', 'bed', '[UNK]', 'far', '[UNK]', 'soft', 'beds', 'go', '[UNK]', 'china', '[UNK]', 'staff', '[UNK]', '[UNK]', 'punctual', '[UNK]', 'went', '[UNK]', '[UNK]', '[UNK]', 'way', '[UNK]', 'help', '[UNK]', 'every', 'need', 'including', 'going', '[UNK]', 'store', 'across', '[UNK]', 'street', '[UNK]', 'purchase', 'china', 'mobile', 'sim', 'card', '[UNK]', '[UNK]', '[UNK]', 'buffet', 'breakfast', '[UNK]', 'okay', 'nothing', '[UNK]', 'write', 'home', '[UNK]', '[UNK]', 'lcd', 'screen', '[UNK]', 'movies', '[UNK]', 'demand', '[UNK]', 'rmb', '[UNK]', '[UNK]', 'good', 'selection', '[UNK]', 'western', 'channels', 'including', 'hbo', 'cnn', 'bbc', 'star', 'world', 'etc', '[UNK]', 'gym', '[UNK]', 'small', '[UNK]', 'selection', '[UNK]', 'basic', 'weights', '[UNK]', 'one', 'cable', 'machine', '[UNK]', '[UNK]', 'however', 'new', 'technogym', 'cardio', 'machines', '[UNK]', 'built', '[UNK]', 'lcd', 'tvs', '[UNK]', '[UNK]', '[UNK]', 'good', '[UNK]', 'location', '[UNK]', 'bit', '[UNK]', '[UNK]', '[UNK]', 'way', '[UNK]', '[UNK]', 'central', 'areas', '[UNK]', 'beijing', '[UNK]', '[UNK]', '[UNK]', 'better', 'suited', '[UNK]', '[UNK]', 'needs', '[UNK]', 'need', '[UNK]', '[UNK]', '[UNK]', '[UNK]', 'haidian', 'district', '[UNK]', 'spg', 'platinum', '[UNK]', '[UNK]', '[UNK]', 'upgrades', '[UNK]', 'better', 'room', '[UNK]', 'aloft', '[UNK]', 'policy', '[UNK]', '[UNK]', '[UNK]', '[UNK]', 'upgrades', '[UNK]', 'sheraton', 'next', 'door', '[UNK]', 'much', 'nicer', 'hotel', '[UNK]', '[UNK]', 'opinion', '[UNK]', '[UNK]', 'writing', '[UNK]', '[UNK]', '[UNK]', '[UNK]', '[UNK]', 'upgraded', 'room', '[UNK]', '[UNK]', 'far', '[UNK]', 'bang', '[UNK]', '[UNK]', 'buck', 'aloft', '[UNK]', 'great', 'place', '', '', '', '', '', '', '', '', '', '', '', '', '', '', '', '', '', '', '', '', '', '', '', '', '', '', '', '', '', '', '', '', '', '', '', '', '', '', '', '', '', '', '', '', '', '', '', '', '', '', '', '', '', '', '', '', '', '', '', '', '', '', '', '', '', '', '', '', '', '', '', '', '', '', '', '', '', '', '', '', '', '', '', '', '', '', '', '', '', '', '']\n",
      "[  137    42    87     9     1   106   142     1    13     1     1 10294\n",
      "   803 24544     1    56     1   767   589     1     1   260     1   110\n",
      "     1  1468     1     1     9     1   142     1     1   682     1  1312\n",
      "     1    21     1    73     1     1    30     1     1   575     1  7560\n",
      "     1   317     1   302     1     1    92     1    82   198     1     1\n",
      "  2121     1   302   532     1     1     1  6089     1     1     1     1\n",
      "     1  2194    62   226     1     1     1     1   244     1     1     1\n",
      "   106   215     1     1     1     1     1    10     1     1    15     1\n",
      "    95    39     1   671   126  1149  2795     1     1     1    11     1\n",
      "     1     1    44     1    73     1   803     1     8  2468  1132     1\n",
      "   521     1   198     1  6089   211    16     1     1   270    46     1\n",
      "     1  1022     1     1   165     2     1     1     1    41     1   798\n",
      "     1     1    73     1   138     7   912     1    45     1    32     1\n",
      "     1     1  7230     1     1   489     1     1     1  5362     1     1\n",
      "     1     2   320    96     1  1952     1   879     1    14     1    79\n",
      "     1     1   202    45     1   810     1    18   233     1    78     6\n",
      "     1   690   488     1     1   485     1     6    97     1     1   296\n",
      "   666  1173    54    89     1     1     1   260     1   780     1     1\n",
      "  1374   698     1   282    65     1     1     1   497   780     1    28\n",
      "     1     1   575     1  1390     1     1     1   302  1625  7684     1\n",
      "   119    14     1     1   931   638     1   709     1   232     1     1\n",
      "   219   117     1  2408   151     1  2121     1     1     7     1     1\n",
      "   296   666  1173     1     1     1  5052   294     1     1   182    50\n",
      "     1 10294     1    78    45     1  1178   892     1    14     1     1\n",
      "     1   556     1     1     8   114     5     1     1     1    67     1\n",
      "     1     1   386     1     1    42] => ['aug', 'excellent', 'value', 'location', '[UNK]', 'big', 'problem', '[UNK]', 'stayed', '[UNK]', '[UNK]', 'aloft', 'beijing', 'haidian', '[UNK]', 'nights', '[UNK]', 'july', 'nd', '[UNK]', '[UNK]', 'lots', '[UNK]', 'reviews', '[UNK]', 'talk', '[UNK]', '[UNK]', 'location', '[UNK]', 'problem', '[UNK]', '[UNK]', 'knew', '[UNK]', 'ahead', '[UNK]', 'time', '[UNK]', 'found', '[UNK]', '[UNK]', 'really', '[UNK]', '[UNK]', 'issue', '[UNK]', 'longest', '[UNK]', 'spent', '[UNK]', 'taxi', '[UNK]', '[UNK]', 'minutes', '[UNK]', 'never', 'paid', '[UNK]', '[UNK]', 'rmb', '[UNK]', 'taxi', 'ride', '[UNK]', '[UNK]', '[UNK]', 'cdn', '[UNK]', '[UNK]', '[UNK]', '[UNK]', '[UNK]', 'forbidden', 'city', 'given', '[UNK]', '[UNK]', '[UNK]', '[UNK]', 'family', '[UNK]', '[UNK]', '[UNK]', 'big', 'deal', '[UNK]', '[UNK]', '[UNK]', '[UNK]', '[UNK]', 'rooms', '[UNK]', '[UNK]', 'clean', '[UNK]', 'beds', 'comfortable', '[UNK]', 'wireless', 'internet', 'connection', 'reliable', '[UNK]', '[UNK]', '[UNK]', 'one', '[UNK]', '[UNK]', '[UNK]', 'hotels', '[UNK]', 'found', '[UNK]', 'beijing', '[UNK]', 'would', 'accomodate', 'adults', '[UNK]', 'children', '[UNK]', 'paid', '[UNK]', 'cdn', 'per', 'night', '[UNK]', '[UNK]', 'amazing', 'price', '[UNK]', '[UNK]', 'meant', '[UNK]', '[UNK]', 'star', 'hotel', '[UNK]', '[UNK]', '[UNK]', 'go', '[UNK]', 'expecting', '[UNK]', '[UNK]', 'found', '[UNK]', 'reception', 'staff', 'generally', '[UNK]', 'helpful', '[UNK]', 'friendly', '[UNK]', '[UNK]', '[UNK]', 'fastest', '[UNK]', '[UNK]', 'world', '[UNK]', '[UNK]', '[UNK]', 'unreasonable', '[UNK]', '[UNK]', '[UNK]', 'hotel', 'manager', 'made', '[UNK]', 'effort', '[UNK]', 'speak', '[UNK]', 'us', '[UNK]', 'times', '[UNK]', '[UNK]', 'extremely', 'helpful', '[UNK]', 'welcoming', '[UNK]', 'breakfast', 'buffet', '[UNK]', 'quite', 'good', '[UNK]', 'reasonably', 'priced', '[UNK]', '[UNK]', 'number', '[UNK]', 'good', 'restaurants', '[UNK]', '[UNK]', 'four', 'points', 'sheraton', 'next', 'door', '[UNK]', '[UNK]', '[UNK]', 'lots', '[UNK]', 'options', '[UNK]', '[UNK]', 'massive', 'mall', '[UNK]', 'block', 'away', '[UNK]', '[UNK]', '[UNK]', 'dining', 'options', '[UNK]', 'well', '[UNK]', '[UNK]', 'issue', '[UNK]', 'ran', '[UNK]', '[UNK]', '[UNK]', 'taxi', 'drivers', 'refusing', '[UNK]', 'take', 'us', '[UNK]', '[UNK]', 'summer', 'palace', '[UNK]', 'guess', '[UNK]', 'felt', '[UNK]', '[UNK]', 'far', 'enough', '[UNK]', 'minimum', 'rate', '[UNK]', 'rmb', '[UNK]', '[UNK]', 'staff', '[UNK]', '[UNK]', 'four', 'points', 'sheraton', '[UNK]', '[UNK]', '[UNK]', 'busier', 'road', '[UNK]', '[UNK]', 'side', 'street', '[UNK]', 'aloft', '[UNK]', 'quite', 'helpful', '[UNK]', 'finding', 'taxis', '[UNK]', 'us', '[UNK]', '[UNK]', '[UNK]', 'already', '[UNK]', '[UNK]', 'would', 'definitely', 'stay', '[UNK]', '[UNK]', '[UNK]', 'recommend', '[UNK]', '[UNK]', '[UNK]', 'friends', '[UNK]', '[UNK]', 'excellent']\n"
     ]
    }
   ],
   "source": [
    "for seq in sequences[:3]:\n",
    "  print(f\"{seq} => {[inverse_vocab[i] for i in seq]}\")"
   ]
  },
  {
   "cell_type": "markdown",
   "metadata": {
    "pycharm": {
     "name": "#%% md\n"
    }
   },
   "source": [
    "### Generate training examples from sequences"
   ]
  },
  {
   "cell_type": "code",
   "execution_count": 58,
   "metadata": {
    "pycharm": {
     "name": "#%%\n"
    }
   },
   "outputs": [],
   "source": [
    "# Generates skip-gram pairs with negative sampling for a list of sequences\n",
    "# (int-encoded sentences) based on window size, number of negative samples\n",
    "# and vocabulary size.\n",
    "def generate_training_data(sequences, window_size, num_ns, vocab_size, sampling_table):\n",
    "  # Elements of each training example are appended to these lists.\n",
    "  targets, contexts, labels = [], [], []\n",
    "\n",
    "  # # Build the sampling table for `vocab_size` tokens.\n",
    "  # sampling_table = tf.keras.preprocessing.sequence.make_sampling_table(vocab_size)\n",
    "\n",
    "  # Iterate over all sequences (sentences) in the dataset.\n",
    "  for sequence in tqdm.tqdm(sequences):\n",
    "\n",
    "    # Generate positive skip-gram pairs for a sequence (sentence).\n",
    "    positive_skip_grams, _ = tf.keras.preprocessing.sequence.skipgrams(\n",
    "          sequence,\n",
    "          vocabulary_size=vocab_size,\n",
    "          sampling_table=sampling_table,\n",
    "          window_size=window_size,\n",
    "          negative_samples=0)\n",
    "\n",
    "    # Iterate over each positive skip-gram pair to produce training examples\n",
    "    # with a positive context word and negative samples.\n",
    "    for target_word, context_word in positive_skip_grams:\n",
    "\n",
    "      # context_class = tf.expand_dims(tf.constant([context_word], dtype=\"int64\"), 1)\n",
    "\n",
    "      context_class = context_word.reshape(1, 1)\n",
    "      negative_sampling_candidates, _, _ = tf.random.log_uniform_candidate_sampler(\n",
    "          true_classes=context_class,\n",
    "          num_true=1,\n",
    "          num_sampled=num_ns,\n",
    "          unique=True,\n",
    "          range_max=vocab_size,\n",
    "          seed=SEED,\n",
    "          name=\"negative_sampling\")\n",
    "\n",
    "      # Build context and label vectors (for one target word)\n",
    "      negative_sampling_candidates = tf.expand_dims(negative_sampling_candidates, 1)\n",
    "\n",
    "      context = tf.concat([context_class, negative_sampling_candidates], 0)\n",
    "      # label = tf.constant([1] + [0] * num_ns, dtype=\"int64\")\n",
    "\n",
    "      # Append each element from the training example to global lists.\n",
    "      targets.append(target_word)\n",
    "      contexts.append(context)\n",
    "    labels += [tf.constant([1] + [0] * num_ns, dtype=\"int64\")] * len(positive_skip_grams)\n",
    "\n",
    "  return targets, contexts, labels"
   ]
  },
  {
   "cell_type": "markdown",
   "metadata": {
    "pycharm": {
     "name": "#%% md\n"
    }
   },
   "source": [
    "Since the data is too big (RAM wise) we will generate training data in chunks:"
   ]
  },
  {
   "cell_type": "code",
   "execution_count": null,
   "metadata": {
    "pycharm": {
     "name": "#%%\n",
     "is_executing": true
    }
   },
   "outputs": [],
   "source": [
    "train_data_path = Path('train_data_w5_ns15')\n",
    "if not train_data_path.exists():\n",
    "    train_data_path.mkdir()\n",
    "\n",
    "sampling_table = tf.keras.preprocessing.sequence.make_sampling_table(len(inverse_vocab))\n",
    "\n",
    "num_chunks = 10\n",
    "step = len(sequences) // num_chunks\n",
    "for i in range(num_chunks):\n",
    "    targets_path = train_data_path / f'targets{i}.npy'\n",
    "    contexts_path = train_data_path / f'contexts{i}.npy'\n",
    "    labels_path = train_data_path / f'labels{i}.npy'\n",
    "\n",
    "    if targets_path.exists() and contexts_path.exists() and labels_path.exists():\n",
    "        continue\n",
    "\n",
    "    print(f'{i=}')\n",
    "\n",
    "    targets, contexts, labels = generate_training_data(\n",
    "        sequences=sequences[i * step:(i + 1) * step],\n",
    "        window_size=WINDOW_SIZE,\n",
    "        num_ns=NUM_NS,\n",
    "        vocab_size=len(inverse_vocab),\n",
    "        sampling_table=sampling_table,\n",
    "    )\n",
    "\n",
    "    targets = np.array(targets)\n",
    "    contexts = np.array(contexts)[:,:,0]\n",
    "    labels = np.array(labels)\n",
    "\n",
    "    print('\\n')\n",
    "    print(f\"targets.shape: {targets.shape}\")\n",
    "    print(f\"contexts.shape: {contexts.shape}\")\n",
    "    print(f\"labels.shape: {labels.shape}\")\n",
    "\n",
    "    np.save(targets_path, targets)\n",
    "    np.save(contexts_path, contexts)\n",
    "    np.save(labels_path, labels)"
   ]
  },
  {
   "cell_type": "markdown",
   "metadata": {
    "pycharm": {
     "name": "#%% md\n"
    }
   },
   "source": [
    "Now, concatenate all chunks into single big arrays, and take advantage of knowing the vocabulary size by changing the dtype:"
   ]
  },
  {
   "cell_type": "code",
   "execution_count": 16,
   "metadata": {
    "pycharm": {
     "name": "#%%\n"
    }
   },
   "outputs": [],
   "source": [
    "train_data_path = Path('train_data_w5_ns15')\n",
    "targets_path = train_data_path / 'targets'\n",
    "contexts_path = train_data_path / 'contexts'\n",
    "labels_path = train_data_path / 'labels'\n",
    "\n",
    "num_chunks = 10\n",
    "if not targets_path.exists() or not contexts_path.exists() or not labels_path.exists():\n",
    "    targets_list = [np.load(train_data_path / f'targets{i}.npy') for i in range(num_chunks)]\n",
    "    contexts_list = [np.load(train_data_path / f'contexts{i}.npy') for i in range(num_chunks)]\n",
    "    labels_list = [np.load(train_data_path / f'labels{i}.npy') for i in range(num_chunks)]\n",
    "\n",
    "    targets = np.concatenate(targets_list, axis=0, dtype=np.int16)\n",
    "    contexts = np.concatenate(contexts_list, axis=0, dtype=np.int16)\n",
    "    labels = np.concatenate(labels_list, axis=0, dtype=np.int16)\n",
    "\n",
    "    np.save(targets_path, targets)\n",
    "    np.save(contexts_path, contexts)\n",
    "    np.save(labels_path, labels)"
   ]
  },
  {
   "cell_type": "markdown",
   "source": [
    "## Train a Word2Vec model"
   ],
   "metadata": {
    "collapsed": false,
    "pycharm": {
     "name": "#%% md\n"
    }
   }
  },
  {
   "cell_type": "markdown",
   "metadata": {
    "pycharm": {
     "name": "#%% md\n"
    }
   },
   "source": [
    "#### Load the training data"
   ]
  },
  {
   "cell_type": "code",
   "execution_count": 3,
   "metadata": {
    "pycharm": {
     "name": "#%%\n"
    }
   },
   "outputs": [
    {
     "name": "stdout",
     "output_type": "stream",
     "text": [
      "()\n",
      "(16,)\n",
      "[1 0 0 0 0 0 0 0 0 0 0 0 0 0 0 0]\n",
      "39166039\n"
     ]
    }
   ],
   "source": [
    "train_data_path = Path('train_data_w5_ns15')\n",
    "\n",
    "targets = np.load(train_data_path / 'targets.npy')\n",
    "contexts = np.load(train_data_path / 'contexts.npy')\n",
    "labels = np.load(train_data_path / 'labels.npy')\n",
    "print(targets[0].shape)\n",
    "print(contexts[0].shape)\n",
    "print(labels[0])\n",
    "\n",
    "print(len(targets))"
   ]
  },
  {
   "cell_type": "code",
   "execution_count": 7,
   "metadata": {
    "pycharm": {
     "name": "#%%\n"
    }
   },
   "outputs": [],
   "source": [
    "# BATCH_SIZE = 1024\n",
    "BATCH_SIZE = 4096\n",
    "BUFFER_SIZE = 10000\n",
    "dataset = tf.data.Dataset.from_tensor_slices(((targets, contexts), labels))\n",
    "dataset = dataset.shuffle(BUFFER_SIZE).batch(BATCH_SIZE, drop_remainder=True)"
   ]
  },
  {
   "cell_type": "markdown",
   "source": [
    "#### Defining the Model"
   ],
   "metadata": {
    "collapsed": false
   }
  },
  {
   "cell_type": "code",
   "execution_count": 5,
   "outputs": [],
   "source": [
    "with open('inverse_vocab', 'rb') as f:\n",
    "    inverse_vocabulary = pickle.load(f)\n",
    "\n",
    "VOCAB_SIZE = len(inverse_vocab)\n",
    "EMBEDDING_DIM = 128"
   ],
   "metadata": {
    "collapsed": false,
    "pycharm": {
     "name": "#%%\n"
    }
   }
  },
  {
   "cell_type": "code",
   "execution_count": 6,
   "outputs": [],
   "source": [
    "input_target = layers.Input(shape=())\n",
    "input_context = layers.Input(shape=(NUM_NS + 1,))\n",
    "embedding_target = layers.Embedding(VOCAB_SIZE, EMBEDDING_DIM, input_length=1, name=\"w2v_embedding\")(input_target)\n",
    "embedding_context = layers.Embedding(VOCAB_SIZE, EMBEDDING_DIM, input_length=NUM_NS + 1)(input_context)\n",
    "\n",
    "dotted = layers.Dot(axes=[1, 2])([embedding_target, embedding_context])\n",
    "model = models.Model(inputs=[input_target, input_context], outputs=dotted)"
   ],
   "metadata": {
    "collapsed": false,
    "pycharm": {
     "name": "#%%\n"
    }
   }
  },
  {
   "cell_type": "markdown",
   "source": [
    "#### Compile and run"
   ],
   "metadata": {
    "collapsed": false,
    "pycharm": {
     "name": "#%% md\n"
    }
   }
  },
  {
   "cell_type": "code",
   "execution_count": 11,
   "metadata": {
    "pycharm": {
     "name": "#%%\n"
    }
   },
   "outputs": [
    {
     "ename": "NameError",
     "evalue": "name 'model' is not defined",
     "output_type": "error",
     "traceback": [
      "\u001B[1;31m---------------------------------------------------------------------------\u001B[0m",
      "\u001B[1;31mNameError\u001B[0m                                 Traceback (most recent call last)",
      "Input \u001B[1;32mIn [11]\u001B[0m, in \u001B[0;36m<module>\u001B[1;34m\u001B[0m\n\u001B[1;32m----> 1\u001B[0m \u001B[43mmodel\u001B[49m\u001B[38;5;241m.\u001B[39mcompile(optimizer\u001B[38;5;241m=\u001B[39mtf\u001B[38;5;241m.\u001B[39mkeras\u001B[38;5;241m.\u001B[39moptimizers\u001B[38;5;241m.\u001B[39mAdam(learning_rate\u001B[38;5;241m=\u001B[39m\u001B[38;5;241m0.005\u001B[39m),\n\u001B[0;32m      2\u001B[0m               loss\u001B[38;5;241m=\u001B[39mtf\u001B[38;5;241m.\u001B[39mkeras\u001B[38;5;241m.\u001B[39mlosses\u001B[38;5;241m.\u001B[39mCategoricalCrossentropy(from_logits\u001B[38;5;241m=\u001B[39m\u001B[38;5;28;01mTrue\u001B[39;00m), metrics\u001B[38;5;241m=\u001B[39m[\u001B[38;5;124m'\u001B[39m\u001B[38;5;124maccuracy\u001B[39m\u001B[38;5;124m'\u001B[39m])\n\u001B[0;32m      4\u001B[0m tensorboard_callback \u001B[38;5;241m=\u001B[39m tf\u001B[38;5;241m.\u001B[39mkeras\u001B[38;5;241m.\u001B[39mcallbacks\u001B[38;5;241m.\u001B[39mTensorBoard(log_dir\u001B[38;5;241m=\u001B[39m\u001B[38;5;124m\"\u001B[39m\u001B[38;5;124mmy_logs\u001B[39m\u001B[38;5;124m\"\u001B[39m)\n\u001B[0;32m      6\u001B[0m \u001B[38;5;66;03m# checkpoint a model. here we save the best model relative to validation loss\u001B[39;00m\n",
      "\u001B[1;31mNameError\u001B[0m: name 'model' is not defined"
     ]
    }
   ],
   "source": [
    "model.compile(optimizer=tf.keras.optimizers.Adam(learning_rate=0.005),\n",
    "              loss=tf.keras.losses.CategoricalCrossentropy(from_logits=True), metrics=['accuracy'])\n",
    "\n",
    "tensorboard_callback = tf.keras.callbacks.TensorBoard(log_dir=\"my_logs\")\n",
    "\n",
    "# checkpoint a model. here we save the best model relative to validation loss\n",
    "checkpoint_cb = tf.keras.callbacks.ModelCheckpoint(filepath=\"word2vec_model_w5_ns15_ckpt.h5\", monitor='accuracy', save_best_only=True)\n",
    "\n",
    "# restore_best_weights - Whether to restore model weights from\n",
    "# the epoch with the best value of the monitored quantity.\n",
    "early_stopping_cb = tf.keras.callbacks.EarlyStopping(patience=10, restore_best_weights=True, monitor='accuracy')\n",
    "\n",
    "history = model.fit(dataset, epochs=100, callbacks=[tensorboard_callback, checkpoint_cb, early_stopping_cb])"
   ]
  },
  {
   "cell_type": "markdown",
   "source": [
    "#### Saving the results"
   ],
   "metadata": {
    "collapsed": false,
    "pycharm": {
     "name": "#%% md\n"
    }
   }
  },
  {
   "cell_type": "markdown",
   "metadata": {
    "pycharm": {
     "name": "#%% md\n"
    }
   },
   "source": [
    "Save the model"
   ]
  },
  {
   "cell_type": "code",
   "execution_count": 11,
   "metadata": {
    "pycharm": {
     "name": "#%%\n"
    }
   },
   "outputs": [],
   "source": [
    "model.save(\"word2vec_model_w5_ns15.h5\", include_optimizer=True)"
   ]
  },
  {
   "cell_type": "markdown",
   "metadata": {
    "pycharm": {
     "name": "#%% md\n"
    }
   },
   "source": [
    "Retrieve the learned embeddings"
   ]
  },
  {
   "cell_type": "code",
   "execution_count": 61,
   "metadata": {
    "pycharm": {
     "name": "#%%\n"
    }
   },
   "outputs": [],
   "source": [
    "weights = model.get_layer('w2v_embedding').get_weights()[0]\n",
    "print(f'weights shape is {weights.shape}')\n",
    "\n",
    "import _pickle as pickle\n",
    "\n",
    "with open('inverse_vocab', 'rb') as f:\n",
    "    inverse_vocabulary = pickle.load(f)"
   ]
  },
  {
   "cell_type": "markdown",
   "metadata": {
    "pycharm": {
     "name": "#%% md\n"
    }
   },
   "source": [
    "Now, save the vectors to disk in a `.parquet` file with a word column as key:"
   ]
  },
  {
   "cell_type": "code",
   "execution_count": 43,
   "metadata": {
    "pycharm": {
     "name": "#%%\n"
    }
   },
   "outputs": [],
   "source": [
    "import pandas as pd\n",
    "import pyarrow as pa\n",
    "import pyarrow.parquet as pq\n",
    "\n",
    "df = pd.DataFrame({'word': inverse_vocabulary[2:], 'embedding': list(weights[2:])})\n",
    "df.set_index('word', inplace=True)\n",
    "\n",
    "table = pa.Table.from_pandas(df)\n",
    "pq.write_table(table, 'word2vec_embeddings.parquet')"
   ]
  },
  {
   "cell_type": "code",
   "execution_count": 44,
   "metadata": {
    "pycharm": {
     "name": "#%%\n"
    }
   },
   "outputs": [
    {
     "data": {
      "text/html": [
       "<div>\n",
       "<style scoped>\n",
       "    .dataframe tbody tr th:only-of-type {\n",
       "        vertical-align: middle;\n",
       "    }\n",
       "\n",
       "    .dataframe tbody tr th {\n",
       "        vertical-align: top;\n",
       "    }\n",
       "\n",
       "    .dataframe thead th {\n",
       "        text-align: right;\n",
       "    }\n",
       "</style>\n",
       "<table border=\"1\" class=\"dataframe\">\n",
       "  <thead>\n",
       "    <tr style=\"text-align: right;\">\n",
       "      <th></th>\n",
       "      <th>embedding</th>\n",
       "    </tr>\n",
       "    <tr>\n",
       "      <th>word</th>\n",
       "      <th></th>\n",
       "    </tr>\n",
       "  </thead>\n",
       "  <tbody>\n",
       "    <tr>\n",
       "      <th>hotel</th>\n",
       "      <td>[-0.12856515, 0.15770362, 0.06505656, 0.234301...</td>\n",
       "    </tr>\n",
       "    <tr>\n",
       "      <th>room</th>\n",
       "      <td>[-0.08665641, 0.22643305, 0.17230006, 0.242368...</td>\n",
       "    </tr>\n",
       "    <tr>\n",
       "      <th>great</th>\n",
       "      <td>[0.18022697, -0.051985245, 0.3708178, -0.03778...</td>\n",
       "    </tr>\n",
       "    <tr>\n",
       "      <th>stay</th>\n",
       "      <td>[-0.048565857, 0.11214562, -0.022309598, 0.208...</td>\n",
       "    </tr>\n",
       "    <tr>\n",
       "      <th>good</th>\n",
       "      <td>[0.07658313, -0.07445546, 0.08375567, -0.03007...</td>\n",
       "    </tr>\n",
       "  </tbody>\n",
       "</table>\n",
       "</div>"
      ],
      "text/plain": [
       "                                               embedding\n",
       "word                                                    \n",
       "hotel  [-0.12856515, 0.15770362, 0.06505656, 0.234301...\n",
       "room   [-0.08665641, 0.22643305, 0.17230006, 0.242368...\n",
       "great  [0.18022697, -0.051985245, 0.3708178, -0.03778...\n",
       "stay   [-0.048565857, 0.11214562, -0.022309598, 0.208...\n",
       "good   [0.07658313, -0.07445546, 0.08375567, -0.03007..."
      ]
     },
     "execution_count": 44,
     "metadata": {},
     "output_type": "execute_result"
    }
   ],
   "source": [
    "df.head()"
   ]
  },
  {
   "cell_type": "markdown",
   "source": [
    "## Analyze the learned Word Embeddings"
   ],
   "metadata": {
    "collapsed": false,
    "pycharm": {
     "name": "#%% md\n"
    }
   }
  },
  {
   "cell_type": "markdown",
   "metadata": {
    "pycharm": {
     "name": "#%% md\n"
    }
   },
   "source": [
    "### Find Most Similar"
   ]
  },
  {
   "cell_type": "code",
   "execution_count": 6,
   "metadata": {
    "pycharm": {
     "name": "#%%\n"
    }
   },
   "outputs": [],
   "source": [
    "from typing import List, Tuple\n",
    "from sklearn.metrics.pairwise import cosine_similarity\n",
    "import pyarrow.parquet as pq\n",
    "import pandas as pd\n",
    "import numpy as np\n",
    "\n",
    "embeddings_path='word2vec_embeddings.parquet'\n",
    "word_vectors_table = pq.read_table(embeddings_path).to_pandas()\n",
    "\n",
    "def find_most_similar(word: str, k: int = 10, word_vectors: pd.DataFrame = word_vectors_table) -> List[Tuple[str, float]]:\n",
    "    word_vector = word_vectors.loc[word].embedding\n",
    "\n",
    "    weights = np.asarray(list(word_vectors_table.embedding.values))\n",
    "    similarities = cosine_similarity(word_vector.reshape(1, -1), weights).flatten()\n",
    "\n",
    "    most_similar_idxs = np.argsort(similarities)[::-1][1:k + 1]  # skip the word itself\n",
    "    return [(word_vectors.index[idx], similarities[idx]) for idx in most_similar_idxs]"
   ]
  },
  {
   "cell_type": "code",
   "execution_count": 15,
   "metadata": {
    "pycharm": {
     "name": "#%%\n"
    }
   },
   "outputs": [
    {
     "data": {
      "text/plain": "[('historic', 0.6097145),\n ('historical', 0.5942236),\n ('architectural', 0.581293),\n ('architecturally', 0.58010435),\n ('preservation', 0.557518),\n ('deco', 0.5541978),\n ('architechture', 0.5379732),\n ('unique', 0.53602445),\n ('classic', 0.53073084),\n ('marvel', 0.52849305)]"
     },
     "execution_count": 15,
     "metadata": {},
     "output_type": "execute_result"
    }
   ],
   "source": [
    "find_most_similar('architecture')"
   ]
  },
  {
   "cell_type": "markdown",
   "metadata": {
    "pycharm": {
     "name": "#%% md\n"
    }
   },
   "source": [
    "### Visualize with the `Tensorboard Embedding Projector`"
   ]
  },
  {
   "cell_type": "markdown",
   "source": [
    "Load the vectors from the `.parquet` file to a 2d numpy array"
   ],
   "metadata": {
    "collapsed": false,
    "pycharm": {
     "name": "#%% md\n"
    }
   }
  },
  {
   "cell_type": "code",
   "execution_count": 9,
   "metadata": {
    "pycharm": {
     "name": "#%%\n"
    }
   },
   "outputs": [
    {
     "data": {
      "text/plain": "(38436, 128)"
     },
     "execution_count": 9,
     "metadata": {},
     "output_type": "execute_result"
    }
   ],
   "source": [
    "import pyarrow.parquet as pq\n",
    "import numpy as np\n",
    "\n",
    "embeddings_path='word2vec_embeddings.parquet'\n",
    "word_vectors_table = pq.read_table(embeddings_path).to_pandas()\n",
    "\n",
    "weights = np.asarray(list(word_vectors_table.embedding.values))\n",
    "weights.shape"
   ]
  },
  {
   "cell_type": "markdown",
   "source": [
    "Save vectors metadata in `.tsv` format for the use of the `Embedding Projector`"
   ],
   "metadata": {
    "collapsed": false
   }
  },
  {
   "cell_type": "code",
   "execution_count": 4,
   "outputs": [],
   "source": [
    "from pathlib import Path\n",
    "\n",
    "logs_path = Path('my_logs')\n",
    "if not logs_path.exists():\n",
    "    logs_path.mkdir()\n",
    "\n",
    "with open(logs_path / 'metadata.tsv', 'w', encoding='utf-8') as f:\n",
    "    for word in word_vectors_table.index:\n",
    "      f.write(word + \"\\n\")"
   ],
   "metadata": {
    "collapsed": false,
    "pycharm": {
     "name": "#%%\n"
    }
   }
  },
  {
   "cell_type": "markdown",
   "source": [
    "Produce a checkpoint for the `Embedding Projector`"
   ],
   "metadata": {
    "collapsed": false,
    "pycharm": {
     "name": "#%% md\n"
    }
   }
  },
  {
   "cell_type": "code",
   "execution_count": 5,
   "metadata": {
    "pycharm": {
     "name": "#%%\n"
    }
   },
   "outputs": [
    {
     "data": {
      "text/plain": "'my_logs\\\\embedding.ckpt-1'"
     },
     "execution_count": 5,
     "metadata": {},
     "output_type": "execute_result"
    }
   ],
   "source": [
    "import tensorflow as tf\n",
    "\n",
    "weights = tf.Variable(weights)\n",
    "\n",
    "checkpoint = tf.train.Checkpoint(embedding=weights)\n",
    "checkpoint.save(logs_path / \"embedding.ckpt\")"
   ]
  },
  {
   "cell_type": "markdown",
   "source": [
    "Configure and run the `Embedding Projector`"
   ],
   "metadata": {
    "collapsed": false,
    "pycharm": {
     "name": "#%% md\n"
    }
   }
  },
  {
   "cell_type": "code",
   "execution_count": 7,
   "metadata": {
    "pycharm": {
     "name": "#%%\n"
    }
   },
   "outputs": [],
   "source": [
    "from tensorboard.plugins import projector\n",
    "\n",
    "# Set up config.\n",
    "config = projector.ProjectorConfig()\n",
    "embedding = config.embeddings.add()\n",
    "# The name of the tensor will be suffixed by `/.ATTRIBUTES/VARIABLE_VALUE`.\n",
    "embedding.tensor_name = \"embedding/.ATTRIBUTES/VARIABLE_VALUE\"\n",
    "embedding.metadata_path = 'metadata.tsv'\n",
    "projector.visualize_embeddings(logs_path, config)"
   ]
  },
  {
   "cell_type": "code",
   "execution_count": null,
   "metadata": {
    "pycharm": {
     "name": "#%%\n",
     "is_executing": true
    }
   },
   "outputs": [],
   "source": [
    "%load_ext tensorboard\n",
    "%tensorboard --logdir 'my_logs'"
   ]
  },
  {
   "cell_type": "markdown",
   "metadata": {
    "pycharm": {
     "name": "#%% md\n"
    }
   },
   "source": [
    "### Find Clusters using K-Means"
   ]
  },
  {
   "cell_type": "markdown",
   "source": [
    "Load the vectors from the `.parquet` file to a 2d numpy array"
   ],
   "metadata": {
    "collapsed": false,
    "pycharm": {
     "name": "#%% md\n"
    }
   }
  },
  {
   "cell_type": "code",
   "execution_count": 22,
   "metadata": {
    "pycharm": {
     "name": "#%%\n"
    }
   },
   "outputs": [
    {
     "data": {
      "text/plain": "(38436, 128)"
     },
     "execution_count": 22,
     "metadata": {},
     "output_type": "execute_result"
    }
   ],
   "source": [
    "from sklearn.metrics.pairwise import cosine_similarity\n",
    "import pyarrow.parquet as pq\n",
    "import pandas as pd\n",
    "import numpy as np\n",
    "\n",
    "embeddings_path='word2vec_embeddings.parquet'\n",
    "word_vectors_table = pq.read_table(embeddings_path).to_pandas()\n",
    "\n",
    "weights = np.asarray(list(word_vectors_table.embedding.values))\n",
    "weights.shape"
   ]
  },
  {
   "cell_type": "markdown",
   "source": [
    "Apply the K-Means algorithm with 50 clusters"
   ],
   "metadata": {
    "collapsed": false,
    "pycharm": {
     "name": "#%% md\n"
    }
   }
  },
  {
   "cell_type": "code",
   "execution_count": 23,
   "outputs": [
    {
     "name": "stdout",
     "output_type": "stream",
     "text": [
      "The assigned labels : [19 21 46 ... 42 42 31] which is the same as y_pred\n",
      "First three points labels [19 21 46]\n",
      "Silhouette Score is: -0.1619766354560852\n",
      "The 50 centroids\n",
      "group 0 centroid: [-0.04904554 -0.03404083  0.12711251  0.0468531  -0.01779145 -0.1751288\n",
      " -0.08613586 -0.18082021  0.13725878  0.00102667 -0.17388092 -0.20308846\n",
      "  0.03260564 -0.18707849  0.02500512 -0.10131843 -0.01212348 -0.03765202\n",
      "  0.22178765 -0.0262383  -0.05276544  0.00774314  0.22109024 -0.2967737\n",
      "  0.20237248 -0.02078558 -0.13384686 -0.10138915  0.17283204 -0.09344714\n",
      " -0.09111664  0.03131958 -0.23534116  0.0659726  -0.16691074 -0.12740767\n",
      "  0.10874832  0.13552831  0.18456866 -0.02843037 -0.19922785  0.11464216\n",
      " -0.09095173  0.01947644 -0.09824637 -0.11299505 -0.16791041  0.01878768\n",
      "  0.17194635 -0.04972418  0.01911457  0.10001729  0.20797813 -0.04716227\n",
      "  0.1280197  -0.26709935 -0.13221249  0.02991569  0.25136593  0.00582996\n",
      "  0.18615483 -0.07913321 -0.11444569  0.18124221 -0.23807326 -0.05063954\n",
      "  0.26985288 -0.1381303   0.20454365 -0.06644146  0.01683757  0.01558395\n",
      " -0.22621407 -0.07496487  0.05087309 -0.31479692 -0.2903616  -0.09032021\n",
      "  0.10076247  0.06978157 -0.00721663 -0.02562221 -0.06728418 -0.07816353\n",
      "  0.01187516  0.34841633  0.12119132 -0.07104112  0.15374738  0.03438895\n",
      "  0.04081338 -0.09917522 -0.1794138  -0.01372671 -0.01863229 -0.10206806\n",
      " -0.12164985 -0.07377474 -0.08822715  0.00502492  0.24454102 -0.15066186\n",
      "  0.28544438 -0.00905703  0.1101063  -0.1445309   0.0087872  -0.11212053\n",
      "  0.05349195  0.15859167 -0.08763912 -0.07570018 -0.0814532  -0.12434438\n",
      " -0.00062134 -0.04900571 -0.21834266  0.12313735  0.05656517 -0.14691125\n",
      "  0.24386491  0.11196251 -0.07941485 -0.24668743 -0.26436955 -0.08396436\n",
      "  0.03415212 -0.03453629]\n",
      "group 1 centroid: [-0.31519598  0.24202207 -0.31833228 -0.3721445  -0.06411199  0.19125926\n",
      " -0.267232   -0.15959254 -0.15982036  0.26545686  0.3676673  -0.07588568\n",
      "  0.07751351  0.0853397  -0.07598073 -0.20494106  0.23317356 -0.34991089\n",
      " -0.21955661  0.20119804  0.13924904  0.09750015  0.00720937  0.10437877\n",
      " -0.13751045 -0.00189953 -0.30917364 -0.07312638  0.4521094  -0.03517377\n",
      "  0.23185523  0.17506076  0.06650501  0.5243545  -0.03264361 -0.10987127\n",
      "  0.05618224  0.09785824  0.05047448  0.23272172  0.0653832   0.05184661\n",
      " -0.02448712  0.20041402 -0.37849367 -0.0588594  -0.3104387   0.11587629\n",
      "  0.43187612  0.18825077 -0.14326812 -0.05419897  0.10375155 -0.03866078\n",
      " -0.13740934 -0.4221214  -0.08637624  0.02012002 -0.05975025 -0.22721148\n",
      "  0.2689282  -0.26898593 -0.09964547 -0.5558119  -0.24053952 -0.09518359\n",
      "  0.15619087 -0.27752206 -0.15126778  0.1344914   0.13677606 -0.45803696\n",
      " -0.09631356 -0.31232736  0.07132709  0.19198063  0.14959991  0.36634326\n",
      " -0.10079861 -0.29904804 -0.1156592   0.19243589  0.21787833 -0.2444086\n",
      "  0.32468048 -0.05803705 -0.32508096 -0.34559256  0.05799505  0.26450732\n",
      " -0.39394465  0.1751837   0.08810114  0.08155105 -0.11048786  0.31034264\n",
      "  0.30235234  0.09954085 -0.29093048 -0.02282257  0.2124633   0.10477828\n",
      "  0.00312169 -0.26903394 -0.3250472   0.14630438 -0.04235992  0.1843583\n",
      " -0.10308391  0.27950498  0.02080059  0.12386291 -0.01695042 -0.03161317\n",
      " -0.01936154  0.04145889  0.22732398 -0.076662   -0.38784915  0.0167553\n",
      " -0.2979783  -0.34508455 -0.19555397  0.3006214   0.09523021  0.16530134\n",
      "  0.19677149 -0.15372759]\n",
      "group 2 centroid: [-0.13496365  0.1435867  -0.241373   -0.05630702  0.21675901  0.08415904\n",
      "  0.23261859  0.06896185  0.07692852  0.05868576  0.0117939  -0.28967142\n",
      "  0.28139055  0.08570863 -0.09531455  0.13946375 -0.20727603 -0.2021775\n",
      " -0.02485412 -0.31779197 -0.29939285 -0.13290988 -0.27357432  0.17605038\n",
      " -0.45668578  0.25096247  0.11627842 -0.14389609 -0.13854647  0.3588236\n",
      " -0.1276454   0.09922489 -0.19560535  0.01780543 -0.12395648 -0.3105542\n",
      "  0.33595547  0.14266165 -0.12390307 -0.17998107 -0.16840537  0.19126551\n",
      "  0.07844885  0.00396882 -0.29023734 -0.35563642  0.00463053 -0.08361441\n",
      "  0.5726417   0.2412391  -0.4145946   0.03145324  0.03569723 -0.18443543\n",
      "  0.13683851  0.25799045  0.13855827  0.22344394  0.19506729 -0.11752386\n",
      "  0.01052254 -0.270331   -0.04630201  0.04295076  0.20047627  0.22015502\n",
      " -0.2441341  -0.09797392  0.13418856  0.13299304 -0.07755851  0.091627\n",
      " -0.0453297  -0.10235358  0.13716356  0.14383478  0.00367452 -0.15332034\n",
      " -0.0041108  -0.05302847  0.26799482  0.16105191 -0.13645747  0.1862477\n",
      " -0.02035463 -0.08651815 -0.09724955 -0.03120517  0.14074689 -0.17699042\n",
      " -0.01188819 -0.08448041 -0.05785899  0.3064547  -0.05941208  0.015002\n",
      "  0.2508242   0.07938691  0.17806116  0.08026741  0.01918035 -0.24787468\n",
      "  0.10689906 -0.03805766 -0.01059099 -0.17283942 -0.04302606  0.24434061\n",
      "  0.01409321 -0.07540573 -0.12533215 -0.00864278  0.01415341  0.14396611\n",
      " -0.12238468  0.18734139 -0.20279105 -0.01361382 -0.13432075 -0.07204887\n",
      "  0.03025716  0.00834991 -0.02150593 -0.12222265 -0.24487181 -0.00481583\n",
      " -0.08070639 -0.3884106 ]\n",
      "group 3 centroid: [-0.3462858   0.02695747 -0.03208843  0.04407204  0.00156895 -0.2712181\n",
      " -0.06693863 -0.11972148 -0.02325743 -0.09231643  0.12665376 -0.03664996\n",
      " -0.18013558  0.09758194 -0.03564052 -0.20005828  0.2476691  -0.08730326\n",
      " -0.00553594  0.10543355  0.23106295  0.19299613  0.2816352  -0.21757543\n",
      " -0.01537616  0.10978324 -0.19955923 -0.01626477  0.23288378  0.00161013\n",
      "  0.06599824 -0.03897005 -0.23955986  0.15873818 -0.09866709 -0.10479219\n",
      " -0.14479895  0.24087687  0.18963668 -0.02515172 -0.08219861 -0.0903355\n",
      "  0.09278821  0.3644514  -0.04918051  0.10034169 -0.07747637  0.39231366\n",
      "  0.00979795  0.0775519   0.17648853  0.15826245  0.02613631 -0.2840137\n",
      "  0.07386079 -0.06540713 -0.13151471  0.07528501 -0.13709226 -0.00449151\n",
      "  0.19496733 -0.09928992 -0.130684   -0.23642954 -0.16354854  0.08643515\n",
      "  0.2495251   0.01444327  0.10015931 -0.0444962  -0.0328882   0.10565515\n",
      " -0.2846813  -0.05442521  0.07298537 -0.05917023 -0.17701939  0.17827067\n",
      "  0.11326566 -0.1154158  -0.02340443  0.05858411  0.13413852 -0.2499919\n",
      "  0.13481776  0.1985277   0.15848589 -0.03197163 -0.07276756  0.02683619\n",
      "  0.03349801  0.11103486  0.05961738 -0.12770009 -0.07975736  0.07544491\n",
      "  0.0673767   0.03284584 -0.14339504  0.11429554  0.01667219 -0.04882622\n",
      "  0.28560045  0.11228188  0.17184696 -0.07779379  0.01391038  0.02791269\n",
      " -0.01108273  0.17812681  0.12450881 -0.09280682 -0.12715603 -0.1342823\n",
      "  0.22388197  0.00321053 -0.00115768  0.02369445 -0.10208812 -0.13314013\n",
      " -0.05060989  0.08961549 -0.09479327 -0.00388395 -0.00625243  0.14848176\n",
      "  0.19866787  0.05016778]\n",
      "group 4 centroid: [-0.05261751  0.16002835 -0.07353727 -0.13049217 -0.01914365 -0.24798852\n",
      "  0.05488202 -0.08848576  0.10620026  0.00085372 -0.03281803 -0.12602329\n",
      " -0.00153062 -0.03451644  0.12123859 -0.02607336  0.08360439 -0.07481498\n",
      "  0.14429551 -0.02624577  0.03423991  0.05560888  0.02711789 -0.14873683\n",
      "  0.1065752   0.06854963 -0.07498877 -0.05426154  0.19595152  0.06783506\n",
      " -0.03349212 -0.00037852 -0.1051035   0.1578005  -0.05903154 -0.16017419\n",
      " -0.05917835  0.18640372  0.09089296  0.02989492 -0.18141235 -0.00333419\n",
      "  0.08409294  0.01476323 -0.03482163 -0.01732802 -0.08719252  0.04059832\n",
      "  0.0264444   0.0294695   0.01536869  0.0416648   0.02500013  0.02482311\n",
      "  0.01566662 -0.0239728  -0.09213039  0.04522141 -0.05613049  0.0379333\n",
      "  0.11055467 -0.11334388 -0.07364474  0.00413041  0.04614609  0.06907395\n",
      "  0.00301682  0.01569193  0.05427381 -0.01826895 -0.00193667 -0.00749751\n",
      " -0.10486992  0.00032738  0.11987822 -0.10836652 -0.0682625   0.05184219\n",
      " -0.04734924 -0.0207704  -0.07012241  0.04688884  0.01873028 -0.03461864\n",
      "  0.01923221  0.1326244  -0.05419793 -0.04205093 -0.04676419 -0.02518819\n",
      " -0.01866879 -0.00776809  0.03339478 -0.11418676  0.00089007  0.05154661\n",
      " -0.05917395  0.02421732 -0.03060972  0.02675874  0.05053046 -0.16951549\n",
      "  0.1541838  -0.03202434  0.027478   -0.06359725 -0.00860027 -0.04724074\n",
      "  0.03723395  0.11523621 -0.04215106 -0.00614904  0.05435006 -0.05310812\n",
      "  0.11244514 -0.05419867 -0.09283663  0.02902449 -0.10251001 -0.14300951\n",
      "  0.00883523  0.18084596 -0.20170212 -0.11769599 -0.13936758 -0.01151856\n",
      "  0.11560439 -0.01076938]\n",
      "group 5 centroid: [-0.35682222  0.20397323 -0.17134185 -0.29203185 -0.07719285 -0.08937341\n",
      " -0.03077763 -0.09850494 -0.06173578  0.06515568  0.25557905  0.01752127\n",
      " -0.11418355  0.1402774  -0.02401341 -0.24225429  0.3930532  -0.09694681\n",
      " -0.05528451  0.16405898  0.14742626  0.05823882  0.22570774 -0.09171325\n",
      " -0.08560244  0.1098742  -0.0919256   0.06473361  0.47194737  0.11661739\n",
      " -0.03846988  0.0594802   0.00854775  0.35490197 -0.08421326 -0.10344429\n",
      "  0.05801317  0.18463889  0.21020222 -0.0191648  -0.03423382 -0.30057728\n",
      "  0.2578575   0.03890381 -0.10321867  0.02241247 -0.08269989  0.21788798\n",
      "  0.083459    0.00121552  0.16027322  0.16052169  0.19463068 -0.11329103\n",
      " -0.08870914 -0.04439668 -0.04010746  0.08910311 -0.3032239   0.09175595\n",
      "  0.17162137 -0.08258642 -0.06394704 -0.20159736 -0.00644705  0.06629213\n",
      "  0.07249346 -0.19912381 -0.11443668 -0.00619366  0.03206443 -0.155325\n",
      " -0.20324492 -0.11331923  0.00614047  0.3296745   0.06140463  0.3232908\n",
      "  0.12599127 -0.20267043 -0.05324752  0.11436437  0.1357844  -0.28335527\n",
      "  0.20516005 -0.07891042 -0.10416461 -0.09707981  0.01413212  0.2804439\n",
      " -0.20400491  0.11327618 -0.04484794 -0.06204813 -0.06222477  0.2751322\n",
      "  0.15277271  0.15842657 -0.18647541 -0.03188188 -0.12692335 -0.02089624\n",
      "  0.13615707  0.07238118 -0.03479824  0.10771336 -0.0608121   0.12616007\n",
      "  0.04955755  0.26037145  0.04599918 -0.06987839 -0.08246336 -0.0524231\n",
      "  0.04787949 -0.12256506  0.08122052 -0.11249551 -0.28092992 -0.1445366\n",
      "  0.10960054 -0.01580083 -0.03956734  0.14667425 -0.02103691  0.12832443\n",
      "  0.3171012  -0.03759266]\n",
      "group 6 centroid: [ 0.01340786  0.05328916  0.36441728 -0.3692074   0.4254587  -0.13372569\n",
      "  0.372491   -0.46309644  0.14000893  0.18253233 -0.18486668 -0.42751935\n",
      "  0.07230497 -0.35995167 -0.27637973  0.21515815 -0.0406125   0.27192104\n",
      " -0.30233186  0.3931261  -0.2271293  -0.44683993  0.35386592  0.21295017\n",
      "  0.1462921   0.01782202  0.15132502 -0.25819898 -0.21547344 -0.13253282\n",
      " -0.38040638  0.07695813 -0.1643143   0.19743647  0.20862968 -0.4712635\n",
      " -0.24468869  0.27301463  0.09913839  0.07552189 -0.28814563  0.28962323\n",
      "  0.36686483 -0.2879309   0.2913013   0.28558215 -0.24289376  0.57973105\n",
      " -0.03011619  0.2598468   0.398275   -0.16053165  0.13171428 -0.36868897\n",
      "  0.0960686  -0.0245821  -0.30028692  0.3436094   0.19214943 -0.25168368\n",
      " -0.18184958 -0.30465093 -0.28193587  0.34586322 -0.3366251  -0.11423818\n",
      " -0.17893302 -0.12834486 -0.04903222 -0.20768952  0.23192555 -0.1896826\n",
      " -0.5511533  -0.20165874 -0.19945513 -0.04874523 -0.27240866 -0.19838315\n",
      "  0.32598805  0.25132892  0.334819   -0.35588112 -0.04954338  0.16432594\n",
      "  0.15967886 -0.36278215 -0.49785265 -0.10712781 -0.3784378  -0.33289734\n",
      "  0.29914474 -0.13039434 -0.41625422  0.101405   -0.19679327  0.34570026\n",
      " -0.19661142 -0.347224    0.24114165 -0.04111612 -0.25970948 -0.191801\n",
      "  0.31041414 -0.2551751  -0.29650843 -0.29374602  0.14695397  0.1063628\n",
      "  0.21793702 -0.0354979   0.01768916 -0.0811138   0.29280084  0.19961871\n",
      "  0.16869213 -0.00166695 -0.28496885 -0.16854669 -0.16577129  0.00086715\n",
      " -0.3091455  -0.1705817   0.20048669 -0.23405764 -0.26563472 -0.41093236\n",
      " -0.09188709 -0.41721416]\n",
      "group 7 centroid: [-0.17800489 -0.143866   -0.05904435  0.13036928 -0.16636078 -0.2601665\n",
      " -0.08545526  0.03393264 -0.12126333 -0.31299382  0.10595398  0.06166367\n",
      " -0.32116133  0.02920531 -0.09278779 -0.3319584   0.19713315 -0.00296635\n",
      " -0.14687674 -0.06467498  0.23505846  0.09750865 -0.08971669 -0.23142254\n",
      " -0.25545964  0.02494524 -0.20991245 -0.13854975  0.20789045  0.23262832\n",
      "  0.24471326  0.17395335  0.02115619  0.09440938 -0.21669903  0.04723303\n",
      " -0.17674483  0.23455216  0.2685947  -0.05240472 -0.06856178 -0.08324591\n",
      " -0.05318503  0.18703099  0.09890902  0.13199063  0.1735709   0.09783568\n",
      " -0.10095967 -0.13174367 -0.0088173   0.10654115 -0.17637622  0.12482651\n",
      " -0.19482438 -0.20387028  0.16206574  0.03058314  0.02353334 -0.00550927\n",
      " -0.12971514  0.0873702   0.00773638  0.07454205 -0.24448626 -0.08681933\n",
      "  0.3584446  -0.02091211 -0.00116291 -0.0304134   0.09417432  0.09711717\n",
      " -0.05118465 -0.11922013 -0.30101427  0.27774054  0.31657073  0.24098021\n",
      "  0.23852031 -0.3658657  -0.20317903 -0.07252141  0.28393528  0.05674607\n",
      "  0.06898811  0.2632324  -0.4187022  -0.26956475  0.00745564  0.14570133\n",
      "  0.26755717 -0.12360038  0.11215717 -0.0451187  -0.27685636 -0.16439286\n",
      " -0.02303574  0.05390974  0.11854094  0.10279379 -0.05479171  0.0521924\n",
      "  0.27382255  0.13905261  0.18049197 -0.2396289  -0.16089892  0.14808457\n",
      "  0.25451747  0.18461792  0.24683303 -0.20162186  0.04337661 -0.14945541\n",
      " -0.08926688 -0.20496887  0.10633049 -0.19937888 -0.25075296  0.10281345\n",
      "  0.03555681 -0.05903127  0.0249816  -0.22247005 -0.15795612 -0.0184666\n",
      "  0.31045225 -0.06769066]\n",
      "group 8 centroid: [-7.86831230e-02  1.70567065e-01 -1.85619310e-01 -1.68013155e-01\n",
      " -6.62142085e-03 -2.06039131e-01 -5.37465960e-02  5.29789589e-02\n",
      "  8.73762518e-02 -1.10738114e-01  5.17881475e-02  6.83467016e-02\n",
      " -7.34260380e-02  1.00472979e-01  1.84323825e-02 -1.68004423e-01\n",
      "  3.27927560e-01 -3.48263234e-02  8.39129761e-02  7.94830248e-02\n",
      "  1.36129886e-01  9.90604088e-02  1.20082617e-01 -1.91787988e-01\n",
      " -5.10763552e-04  1.04681090e-01  1.16603021e-02 -1.22907301e-02\n",
      "  3.73941243e-01  1.78413853e-01  6.39512166e-02 -1.95862781e-02\n",
      "  8.14263001e-02  2.81996667e-01 -1.95967574e-02 -9.93765220e-02\n",
      "  4.18599024e-02  1.70226321e-01  1.60320610e-01  5.83939292e-02\n",
      " -8.88896435e-02 -1.23376451e-01  8.83854106e-02  1.03555154e-02\n",
      " -7.08057284e-02  9.35322121e-02 -1.39045328e-01  3.99368666e-02\n",
      " -7.25609437e-02 -3.90997231e-02  9.06124786e-02  8.05517808e-02\n",
      "  7.19619915e-02 -6.81176037e-02 -7.03971535e-02  7.04278946e-02\n",
      " -1.00594066e-01 -5.04536219e-02 -2.05246136e-01  1.61828265e-01\n",
      "  1.66804828e-02 -9.06928778e-02 -1.03991322e-01 -5.35234585e-02\n",
      "  1.13212399e-01  9.48118418e-02 -5.90136126e-02 -9.96596366e-02\n",
      " -6.22612890e-03 -7.21644089e-02  6.50651474e-03 -8.19948465e-02\n",
      " -7.99306259e-02 -4.78517748e-02  3.86325978e-02  9.25821960e-02\n",
      " -3.11147068e-02  2.12569535e-01 -1.45207979e-02 -9.88831967e-02\n",
      "  1.95625257e-02  8.56408849e-02  1.15263425e-01 -1.92237467e-01\n",
      " -2.43690908e-02 -2.21266504e-02  2.91529432e-04 -1.07407928e-01\n",
      "  4.76776138e-02  8.29911903e-02 -1.51290551e-01  7.77796656e-02\n",
      " -2.60557141e-02 -2.14187369e-01  1.61014183e-03  1.60544977e-01\n",
      " -1.01518258e-02  1.82358369e-01 -8.97436589e-02  7.91157112e-02\n",
      "  1.62173864e-02 -1.14404604e-01  7.72882113e-03  1.04016662e-01\n",
      "  8.62136185e-02  1.10806517e-01 -1.34882465e-01  6.43343199e-03\n",
      "  1.00243866e-01  1.38574794e-01 -1.72621623e-01 -4.18326706e-02\n",
      " -6.50161318e-03 -1.41695231e-01  3.62289622e-02 -1.23302393e-01\n",
      "  1.14272572e-01  4.31892835e-03 -1.58446252e-01 -1.05482988e-01\n",
      "  2.50363257e-02  7.97912106e-02 -1.07629187e-01 -8.35705996e-02\n",
      " -1.58748299e-01 -5.83330318e-02  1.59947589e-01 -1.20926611e-02]\n",
      "group 9 centroid: [-0.32300183  0.02040516  0.0991799  -0.66254216  0.5611046  -0.26374674\n",
      " -0.07601754 -0.34463966 -0.03507556  0.09609099 -0.24609539 -0.1960513\n",
      " -0.22615622 -0.11665179  0.42522827 -0.07038038 -0.04846642 -0.28294608\n",
      " -0.08789194 -0.25414073 -0.18627949 -0.31337637  0.04174304 -0.11222383\n",
      " -0.09450094  0.24408776 -0.04928358  0.0559864   0.01443993 -0.5313737\n",
      " -0.466078    0.04536933 -0.24037823 -0.03333715 -0.29574978 -0.3245212\n",
      " -0.22798382  0.22561602  0.41115198  0.3435129  -0.18356149 -0.02611979\n",
      "  0.1970358   0.32307997  0.33494687 -0.7687321   0.09412089 -0.30801904\n",
      "  0.01781803 -0.02900702 -0.47191396  0.16710606  0.16027875  0.06458646\n",
      " -0.09442093 -0.08403693  0.1569705  -0.1476879  -0.30086714  0.01039143\n",
      "  0.45449355 -0.15795822 -0.12007013 -0.17134245  0.28106034  0.08371926\n",
      " -0.03915903  0.06029408 -0.32795283 -0.13578586  0.12558621 -0.28567132\n",
      "  0.27190977  0.06773806 -0.12475818 -0.27591464 -0.14526916 -0.0026665\n",
      "  0.17184679 -0.1270008  -0.21708815  0.11978479  0.10893553 -0.0767628\n",
      "  0.03266274  0.38200536 -0.14244427  0.24003041  0.06431864  0.08712421\n",
      "  0.00251601 -0.22157721  0.00100655 -0.1360004   0.24235821  0.23666707\n",
      " -0.4408117   0.04651397  0.35866627  0.00564736  0.21797785  0.01778514\n",
      " -0.02396245 -0.24929544 -0.3724893  -0.3156347   0.01818024 -0.05543806\n",
      "  0.06635268  0.20293945  0.11726052 -0.082385    0.2441736   0.14318754\n",
      "  0.49293464  0.34181145 -0.06007567 -0.10527623 -0.20714359  0.53877723\n",
      " -0.5553623   0.17860621  0.29917884  0.02853093  0.21789253  0.17685764\n",
      " -0.43736616  0.02346976]\n",
      "group 10 centroid: [-0.19536828 -0.01365731  0.10451392  0.08427247 -0.20467657 -0.13688573\n",
      " -0.03573092 -0.27302834  0.06733135 -0.15498343  0.12247729 -0.06889047\n",
      " -0.22859105 -0.09564316  0.04914012 -0.20362015 -0.10614181 -0.05939566\n",
      "  0.06260885 -0.1577643  -0.15469159 -0.10887802  0.23238787 -0.39181828\n",
      " -0.14501922 -0.12269189 -0.11756293 -0.13626614  0.01257108 -0.14439367\n",
      "  0.20675217 -0.0166494   0.00952224 -0.14332561 -0.27195102 -0.03662592\n",
      "  0.06126222  0.12261902  0.11059755  0.13376452 -0.1272428  -0.0835026\n",
      "  0.01280733 -0.09564368  0.14217134 -0.20872842  0.09273856  0.18298617\n",
      "  0.04736293 -0.2577291  -0.15100102 -0.16024911  0.06005899 -0.06546934\n",
      "  0.25340417 -0.32896122  0.09645378  0.31871128  0.15290862 -0.06050028\n",
      " -0.08412547 -0.03778527  0.01343339  0.21677274 -0.28205335  0.13042487\n",
      " -0.01205371 -0.11360512  0.08104746  0.05985783 -0.10086153 -0.15347598\n",
      " -0.0255748  -0.15409905 -0.22389328  0.03274717  0.07579358  0.23569773\n",
      "  0.04553911 -0.1334995   0.20830488 -0.02255813  0.16912425  0.17871411\n",
      " -0.02082805  0.2950448   0.06437858 -0.1135929   0.24896063  0.2089532\n",
      "  0.12650628 -0.22145347 -0.18596785  0.08842472 -0.20305218 -0.01996274\n",
      "  0.13097581 -0.07803134 -0.07784721  0.04217407  0.19906333 -0.09584866\n",
      " -0.00820468  0.0088869   0.14644697 -0.41008973  0.2636965  -0.1703451\n",
      "  0.17814256  0.15736616  0.22603421 -0.10856172  0.06304375 -0.07533435\n",
      "  0.02282272  0.12055968 -0.10716365  0.10248827 -0.06295055  0.12571086\n",
      "  0.19405016 -0.09441583 -0.03670598 -0.10545264 -0.13352317 -0.27018505\n",
      " -0.03111328  0.01517323]\n",
      "group 11 centroid: [ 0.05818861  0.05140566  0.03205548  0.0170579  -0.0169872  -0.05339202\n",
      "  0.06146286  0.0134069   0.05068809 -0.04046998 -0.0420986   0.00472632\n",
      " -0.04285091 -0.02041697 -0.0422989  -0.00608863  0.05473794 -0.06665549\n",
      "  0.05201699 -0.00964117  0.03333112 -0.0177639  -0.01590809 -0.04335497\n",
      " -0.00286849  0.01554399  0.01067549  0.02623211  0.01391312  0.0019754\n",
      " -0.00200687 -0.01518762 -0.02540255  0.04309697 -0.00832531  0.03173233\n",
      "  0.08080985  0.02295041 -0.00549181  0.051541   -0.02114454 -0.00936358\n",
      " -0.00804805  0.04629882  0.02336787  0.00702008  0.01232943  0.00842974\n",
      " -0.03969951  0.04320515 -0.01850376 -0.01091053  0.0371303  -0.08355897\n",
      " -0.05572616 -0.04228398 -0.00576841  0.04895067  0.02412051  0.00015742\n",
      "  0.02480218  0.00140747 -0.00679193  0.06169565  0.02207384  0.05676027\n",
      " -0.03945044  0.01679774 -0.03253568  0.03749896 -0.0491311  -0.02486506\n",
      "  0.00101566 -0.05944613 -0.01029352 -0.04412165 -0.05279526  0.02662166\n",
      " -0.04761501 -0.04493209 -0.00512509  0.00644393 -0.03926166 -0.05266983\n",
      " -0.00989659 -0.01008604  0.00229494 -0.0283948   0.01980562 -0.00789807\n",
      "  0.02180971  0.0184717  -0.01359724  0.02537834  0.02610827  0.04407258\n",
      "  0.03694912 -0.0121844   0.04544401  0.06764049 -0.00302067 -0.04743828\n",
      " -0.03529407 -0.01383468 -0.01694564  0.04384575  0.04598956  0.04008869\n",
      "  0.01445748  0.04288217 -0.01469757  0.03693929  0.05542455  0.04708399\n",
      " -0.02225299 -0.00754869 -0.03193642 -0.01337421  0.00985437 -0.04962029\n",
      "  0.00542322  0.02624452 -0.00523328 -0.00065669 -0.0126964   0.00735249\n",
      "  0.01363437 -0.02257745]\n",
      "group 12 centroid: [ 0.07740878  0.13738379 -0.19127078 -0.08511233  0.11648168 -0.11661126\n",
      "  0.14973447  0.08507921  0.12897852 -0.09679544 -0.00439696 -0.04285999\n",
      " -0.00656497  0.09738424  0.06169656 -0.01880976 -0.04951355 -0.10332771\n",
      "  0.11952128 -0.11317222 -0.03335908 -0.15706615 -0.01308739 -0.04642076\n",
      " -0.00678323  0.02970253  0.11320422 -0.06832605  0.09700339 -0.09385268\n",
      "  0.00939642 -0.00709549 -0.02310408  0.23380227  0.05525387 -0.04823167\n",
      " -0.01276458  0.16834807  0.02881303  0.04010009 -0.20160156 -0.01526688\n",
      "  0.01165695 -0.00726245 -0.01097108 -0.10269568 -0.01520857  0.00372483\n",
      "  0.07121597 -0.02396123  0.01769583 -0.21927758 -0.02384491 -0.03593868\n",
      "  0.01439946 -0.01917245 -0.06847583 -0.03004737 -0.02174568 -0.03421395\n",
      " -0.06746846 -0.17334633 -0.08966865 -0.00555738  0.02510667  0.08493503\n",
      " -0.16413921  0.01962873  0.07917126  0.03831024 -0.01961996 -0.00987725\n",
      " -0.02579809 -0.05114812  0.09183833 -0.07348632  0.194945    0.04729871\n",
      " -0.07949971 -0.14620139 -0.01914963  0.00779932 -0.01215105  0.09976215\n",
      "  0.09515465 -0.07244625 -0.14729671 -0.04036879  0.01942636 -0.10525227\n",
      " -0.04459236  0.00873536 -0.13506886 -0.08477897 -0.07183019 -0.05530646\n",
      "  0.04666108  0.01432876  0.0895756   0.0826348   0.0765853  -0.23466112\n",
      "  0.08066811 -0.08924394  0.04600266 -0.04202677  0.05150293 -0.03190712\n",
      "  0.030043    0.01644753 -0.0978844   0.11414857  0.17963248  0.0387698\n",
      "  0.017152   -0.04638717 -0.08384233 -0.02138642 -0.09453911 -0.01559265\n",
      " -0.14284894  0.23544134 -0.17928433 -0.08683169 -0.11334325 -0.0108575\n",
      "  0.10763396 -0.1561435 ]\n",
      "group 13 centroid: [-0.32806918  0.31276587  0.06784081 -0.37595934 -0.08821795 -0.2812293\n",
      "  0.2918613  -0.1787435  -0.01943795  0.02518583  0.37996617  0.21364528\n",
      " -0.32251894 -0.10761305 -0.0249225  -0.28550774  0.44956204 -0.12411516\n",
      "  0.01883564  0.15312266 -0.1510212  -0.12659684 -0.1193741  -0.1430136\n",
      " -0.07047869 -0.1712433  -0.08685001  0.14037494  0.50571674  0.24348566\n",
      "  0.02213618  0.00248023 -0.0420403   0.40309232 -0.02417349  0.13586952\n",
      "  0.08333465  0.0687943  -0.12785839 -0.11835564 -0.04024355 -0.25975233\n",
      " -0.23028557 -0.07335684 -0.04744044  0.11732747  0.08781384  0.12900437\n",
      " -0.24598211 -0.06774488  0.20187822 -0.25293288  0.09376399 -0.07859094\n",
      " -0.02055369 -0.0423446   0.12315725  0.0275536  -0.16593513 -0.09340757\n",
      "  0.30726978 -0.21878381  0.20272253 -0.1645673   0.03057916 -0.13044569\n",
      " -0.14053397 -0.08859602  0.02003783 -0.11752887  0.08827206 -0.25780687\n",
      "  0.06570092 -0.15697323  0.08274275  0.32045388  0.11235115  0.15955025\n",
      " -0.01317523 -0.26403812  0.00632092  0.21153636  0.29211873 -0.37731662\n",
      "  0.2929187  -0.03897882 -0.2495115  -0.24593759  0.03249614  0.21210502\n",
      " -0.197716    0.04711522  0.05871312 -0.05126068  0.2546016   0.25349516\n",
      "  0.20500484 -0.14983943 -0.19932719 -0.06332774  0.0649121  -0.07469415\n",
      "  0.26001558  0.00320781 -0.12091421  0.1401923  -0.35892716  0.2302622\n",
      "  0.03175763  0.35153148 -0.17492297 -0.00565237  0.1006162   0.09529915\n",
      "  0.0468702  -0.06246222 -0.02389458  0.00944812 -0.17442487 -0.01103666\n",
      " -0.12466621 -0.0535542  -0.22714958  0.04165757 -0.18204986  0.24669078\n",
      "  0.3887492  -0.02996615]\n",
      "group 14 centroid: [-3.93512920e-02  2.20726460e-01  4.61538017e-01 -4.96339619e-01\n",
      "  2.68202215e-01 -3.20433885e-01  5.49782932e-01 -2.21148729e-01\n",
      "  3.14906150e-01  1.97973251e-01 -1.71689659e-01 -4.32106614e-01\n",
      " -2.70354804e-02 -3.58102053e-01 -1.38687089e-01  2.56551743e-01\n",
      "  2.16456816e-01  2.90639549e-01 -2.41097972e-01  5.86062491e-01\n",
      " -1.07221685e-01 -3.75493586e-01  2.50387877e-01  2.30689749e-01\n",
      "  2.11416110e-01 -2.87190944e-01 -3.00524414e-01 -2.62354016e-01\n",
      " -2.50584573e-01 -3.02005559e-01 -6.16819039e-02  2.49936357e-01\n",
      " -1.70057982e-01  9.33787823e-02  2.50570834e-01 -4.16594088e-01\n",
      " -2.14013532e-01  3.13677520e-01  2.68954467e-02  4.52612370e-01\n",
      " -2.73294032e-01  1.48085609e-01  3.85169059e-01 -3.20285469e-01\n",
      "  5.65439880e-01 -2.09439099e-01 -4.70027715e-01  4.20448244e-01\n",
      "  2.30295315e-01  2.31970698e-01  4.94312584e-01 -1.68489173e-01\n",
      "  6.88451529e-02 -5.42148687e-02 -1.30263537e-01  2.90635049e-01\n",
      " -3.53960544e-01  3.19595993e-01  3.22949052e-01 -3.07443649e-01\n",
      "  1.29917577e-01 -3.33033651e-01 -2.17094019e-01  3.27562451e-01\n",
      " -3.70181173e-01 -1.13110743e-01 -1.40917271e-01 -4.53398198e-01\n",
      " -5.73810898e-02  4.71802661e-03  2.71600842e-01  9.13216695e-02\n",
      " -5.91337442e-01 -2.64577657e-01 -3.88370633e-01  1.56124428e-01\n",
      " -3.53004903e-01 -2.39183128e-01  4.00207430e-01  3.48361462e-01\n",
      "  3.85001123e-01 -3.93545538e-01 -4.92855385e-02  1.43630952e-01\n",
      "  1.29922744e-04 -2.76881754e-02 -4.66085970e-01  3.09236497e-01\n",
      " -1.94187179e-01 -3.25681090e-01  3.21428776e-01  2.14294121e-01\n",
      " -5.26417375e-01  2.21263856e-01 -3.38184237e-01  4.25508589e-01\n",
      " -2.19551653e-01 -4.15422529e-01  2.86164075e-01 -2.39326835e-01\n",
      " -2.13373676e-01 -2.16370016e-01  4.47310269e-01 -2.75858939e-01\n",
      " -3.29328984e-01 -2.11945400e-01 -9.93729681e-02  1.27461985e-01\n",
      "  2.36196235e-01 -7.31562637e-03 -2.82889962e-01  4.34484780e-02\n",
      "  4.60220277e-01  3.45562100e-01  2.56771058e-01  8.57809484e-02\n",
      " -2.88130313e-01 -3.62810999e-01 -1.59778342e-01 -2.43437186e-01\n",
      " -4.64404553e-01 -3.41120362e-01  2.45039463e-01 -2.29672030e-01\n",
      " -2.76690960e-01 -3.73178869e-01 -2.67176032e-01 -3.33114117e-01]\n",
      "group 15 centroid: [ 0.00690826  0.02866938  0.05430704 -0.03008126  0.00273388 -0.02972084\n",
      " -0.076024    0.02035645  0.00453869 -0.03507117 -0.0154567   0.07128566\n",
      "  0.01005146 -0.02427362  0.01623757 -0.01118082  0.04891124 -0.06016977\n",
      "  0.00047591 -0.01499778  0.00419336  0.02998006  0.03704794 -0.05862302\n",
      "  0.03805967 -0.01483674 -0.02800435  0.00233703  0.05403416 -0.04268231\n",
      " -0.03264013 -0.00261073  0.02152365  0.05796611 -0.02299688 -0.02884826\n",
      "  0.02475167  0.05483155  0.03913336  0.03739219 -0.06844223  0.00112986\n",
      "  0.03434323 -0.04221408 -0.00288753 -0.03548297  0.0393371  -0.01680578\n",
      " -0.00209099 -0.01995226 -0.01832913 -0.03038178  0.01803669 -0.01095055\n",
      " -0.00447243 -0.07556073 -0.02849025  0.05060201 -0.02899167 -0.02775622\n",
      " -0.06828505 -0.05961414 -0.06433199  0.02602625 -0.04104947 -0.00557408\n",
      " -0.006698    0.01186042  0.0128104   0.02270699 -0.05110779 -0.00785357\n",
      "  0.00436251 -0.00269354  0.05118776 -0.01676676 -0.00712607  0.02257333\n",
      "  0.04328027  0.0195869  -0.01006763  0.03918636  0.01274678 -0.02225443\n",
      " -0.01291697 -0.02978957  0.01650946 -0.04945237  0.06269402  0.0816489\n",
      "  0.01233219 -0.05721832 -0.02633523  0.04033666  0.04546759 -0.0020561\n",
      "  0.03982203 -0.00119744 -0.03872993  0.01746847  0.07364838 -0.07001983\n",
      "  0.00507512  0.03531988 -0.00649382  0.00311998  0.01404091 -0.0939811\n",
      "  0.05355425  0.01306865  0.05961919 -0.00954218  0.02392631 -0.04622659\n",
      "  0.01002618  0.02150376  0.00405596  0.05012335 -0.05451653  0.01880428\n",
      "  0.07660591  0.05404804 -0.02897221 -0.06206818 -0.02788008 -0.04074088\n",
      "  0.04555608  0.04848119]\n",
      "group 16 centroid: [ 1.36666998e-01  1.06668733e-01 -1.48298740e-01 -1.75321788e-01\n",
      " -4.37241830e-02 -7.58001581e-02 -3.66386212e-02  6.77821711e-02\n",
      "  1.69475332e-01 -1.32581532e-01 -2.97324266e-02  1.43640235e-01\n",
      " -2.31330767e-02  1.10548191e-01 -1.05706573e-01 -1.87107131e-01\n",
      "  1.01735026e-01 -3.94865572e-02  1.06596999e-01  9.12750140e-02\n",
      "  9.48958248e-02  7.37127289e-03  1.08253770e-02 -1.16544969e-01\n",
      " -1.85246095e-01  6.85221031e-02  4.79512208e-04 -1.09330617e-01\n",
      "  9.24999714e-02  1.99736021e-02  4.90592867e-02  5.96968196e-02\n",
      " -5.65459467e-02  2.00239837e-01  1.08796865e-01 -4.36946563e-02\n",
      "  1.17424808e-01  1.37455106e-01  1.36480555e-01 -8.49903077e-02\n",
      " -1.36442363e-01  2.06512376e-03 -1.20522961e-01  4.46399413e-02\n",
      " -3.37125845e-02 -1.25681385e-02 -3.10322251e-02  6.54134452e-02\n",
      " -8.40670690e-02 -6.78953454e-02  6.81729764e-02 -2.49336902e-02\n",
      "  1.04918547e-01 -8.32003206e-02 -1.46043122e-01  5.22814170e-02\n",
      "  7.94007257e-02 -2.17430599e-04  2.87937913e-02  2.39482280e-02\n",
      " -1.76099032e-01 -8.50794837e-02 -1.31162137e-01  1.02233112e-01\n",
      " -4.91041504e-02  1.08112648e-01 -3.62204830e-03 -1.40578553e-01\n",
      "  1.37278605e-02  9.58853886e-02 -1.02687508e-01 -2.78421640e-02\n",
      " -5.66252358e-02 -2.19125241e-01 -1.21499382e-01  2.15109378e-01\n",
      "  7.85275474e-02  1.13193721e-01 -2.52976920e-02 -1.66931435e-01\n",
      "  5.03229573e-02 -1.52164295e-01  2.11425737e-01  9.13489461e-02\n",
      " -2.77526956e-02 -2.10892912e-02 -1.22581758e-01 -1.30557224e-01\n",
      "  7.29630142e-02  4.45135124e-02  1.84106976e-02 -1.34782076e-01\n",
      "  4.07038443e-02 -9.32020992e-02 -1.70700774e-01  7.94774517e-02\n",
      "  1.72206968e-01 -1.53247882e-02  1.89940006e-01  1.39119998e-01\n",
      "  4.61819768e-02 -1.34057373e-01 -3.46022360e-02  4.08412181e-02\n",
      "  1.98013425e-01  5.24717756e-02 -1.35413617e-01  8.73712748e-02\n",
      "  1.81585446e-01  1.41999111e-01 -8.37814435e-03  8.97110254e-02\n",
      "  2.36084629e-02 -8.86350647e-02 -1.19923137e-01  7.49759674e-02\n",
      "  8.80592540e-02  8.35270882e-02 -1.42975330e-01  4.50516045e-02\n",
      "  4.32051420e-02 -6.47308528e-02  5.64192869e-02 -1.99306577e-01\n",
      " -1.82771236e-01 -2.85801794e-02 -3.78366075e-02 -3.98129933e-02]\n",
      "group 17 centroid: [-0.23561223  0.0119629   0.09718134 -0.24374112  0.04593571 -0.05142527\n",
      "  0.1003933  -0.13948317  0.04461452 -0.19228725 -0.20175111  0.05987164\n",
      " -0.30093348  0.3223311  -0.05391336 -0.24040465  0.45012644 -0.03184041\n",
      " -0.21611239  0.1974495   0.26870757  0.0133701   0.10027912  0.03304975\n",
      " -0.17963594  0.04336791 -0.24646659  0.02265955  0.31217688 -0.00308542\n",
      "  0.05179349 -0.22133897 -0.05797332  0.35210186 -0.27186206  0.01623663\n",
      "  0.14218134  0.07559913  0.15931219  0.15636665  0.05354238 -0.08609267\n",
      "  0.23010838  0.27305257 -0.196495    0.04178721  0.04413924  0.15525381\n",
      " -0.00551133 -0.0590842  -0.03872742  0.28692645  0.14715621 -0.18013471\n",
      " -0.143372   -0.25169203  0.09575041 -0.10492492  0.05243164  0.15258186\n",
      " -0.18377055  0.09858949 -0.36384916 -0.11123438  0.11052419  0.16681136\n",
      "  0.23183887 -0.29542542  0.04317789  0.2206969  -0.13255596 -0.06254587\n",
      " -0.04392098 -0.01236639 -0.03411028  0.3625492  -0.01199287  0.32019588\n",
      "  0.14816174 -0.16086364  0.1565072  -0.07335072  0.23691535 -0.06034367\n",
      " -0.14643641  0.0852747   0.10530948  0.23596735  0.09881558  0.04576707\n",
      " -0.10445583  0.02235155 -0.1708814   0.0137633   0.04496827  0.1543878\n",
      " -0.02293486  0.2322479  -0.0666817   0.12091571  0.19136941  0.05308354\n",
      " -0.02425709  0.17991854  0.14448485  0.13072564 -0.05863399  0.15497892\n",
      "  0.21555951  0.21783966  0.23835139 -0.04118871 -0.19579655 -0.1497663\n",
      "  0.07174908 -0.08944289  0.25127137 -0.1300363  -0.17350006  0.0263542\n",
      "  0.22171758  0.06936277 -0.15242243  0.09817535  0.14068787  0.20933\n",
      "  0.11462277  0.12254637]\n",
      "group 18 centroid: [ 0.01755047  0.09419725 -0.00583843 -0.18789628 -0.03686085 -0.2262518\n",
      " -0.07460247 -0.07561741  0.20552674 -0.07443394 -0.06821258  0.09226898\n",
      " -0.06198365 -0.03949411  0.03945448 -0.18437944  0.18001415 -0.09316651\n",
      "  0.197212   -0.01845715  0.07608313  0.04521974  0.1308688  -0.22993107\n",
      "  0.02490789  0.04287723 -0.13666765 -0.05638397  0.12885989  0.04504481\n",
      " -0.09479816 -0.05905917 -0.02090487  0.13171239 -0.12078795 -0.14944717\n",
      "  0.07129141  0.16054863  0.16588625 -0.00130821 -0.17664778  0.00669559\n",
      " -0.18902436  0.21856347 -0.02822449  0.13914424 -0.15878129  0.07637808\n",
      " -0.10308818 -0.11714914  0.04990944  0.14924881  0.08630107  0.02914151\n",
      "  0.05355616 -0.11229821  0.12327563  0.0533527   0.07986537  0.13245228\n",
      "  0.07278793 -0.04167496 -0.16623941  0.05893441 -0.06191633  0.08881322\n",
      " -0.05402618 -0.01881449  0.13304773 -0.02474995 -0.00612434 -0.01573193\n",
      " -0.08154261 -0.10343852  0.0192528  -0.01800453 -0.13192526  0.16406862\n",
      "  0.02184992 -0.10136262  0.05200022 -0.09785786  0.17120835 -0.03215648\n",
      " -0.0222059   0.08419833  0.05887845 -0.19197369  0.08748359  0.0692215\n",
      "  0.02338204 -0.16514733  0.053612   -0.0849826   0.04054482  0.04423163\n",
      " -0.04581199  0.05190875  0.0763467  -0.00889815  0.08796271 -0.13864467\n",
      " -0.08941454  0.05770268  0.11295219  0.03043216 -0.12155896 -0.06945851\n",
      "  0.1251282   0.19895224 -0.05717626  0.1289072  -0.09435451 -0.18384035\n",
      " -0.02001028  0.1005924   0.06559881  0.26929635 -0.07901446  0.08621895\n",
      "  0.07555425 -0.04061307  0.04134083 -0.21934664 -0.16727635  0.01024061\n",
      "  0.03734275  0.19004017]\n",
      "group 19 centroid: [-0.04281247  0.15669629  0.03534308 -0.0724159   0.06728137 -0.10152629\n",
      "  0.20513986  0.03428123  0.15553115  0.0271741  -0.07339844 -0.19479492\n",
      "  0.07105678 -0.05142637 -0.0313284   0.05939416 -0.14800936 -0.10132983\n",
      "  0.15523753 -0.01390555 -0.23405257 -0.08215167 -0.12324036 -0.02025247\n",
      "  0.00140624  0.06524393 -0.01282586 -0.17202815 -0.04164661 -0.08969679\n",
      " -0.02802946  0.05142006 -0.1317121   0.1009317  -0.07266074 -0.11375844\n",
      "  0.04582386  0.12858836  0.01316452 -0.05506035 -0.23211676  0.12442933\n",
      "  0.07866906 -0.01485493 -0.02948779 -0.13822521 -0.05352676  0.05959658\n",
      "  0.1842623   0.14369816 -0.20289522 -0.04315143  0.12439743 -0.05494861\n",
      "  0.03821211 -0.06868393 -0.03209579  0.1137248   0.12127376 -0.24064888\n",
      "  0.01810439 -0.15021868 -0.06311633  0.16023064 -0.07660791  0.07619318\n",
      " -0.03555253  0.03835808 -0.00470951  0.07816407 -0.09384003 -0.01431637\n",
      " -0.09171882 -0.04205161  0.04704697  0.00609539  0.03251939 -0.09651814\n",
      " -0.00850966 -0.07498702  0.04841043 -0.00933283 -0.03577969  0.20245956\n",
      " -0.04802193 -0.04194564 -0.12304573  0.05708548  0.07067828 -0.10129701\n",
      "  0.02971773 -0.09871555 -0.04385334  0.0869701  -0.09638222  0.05458935\n",
      "  0.06694934 -0.11201637  0.09821784  0.08639371 -0.02464561 -0.24948671\n",
      "  0.2109957  -0.12133657  0.04301845 -0.15675172 -0.00199049  0.06823724\n",
      "  0.02619553  0.04644158  0.02392589  0.10642342  0.19595367  0.10196739\n",
      " -0.11733571  0.11576135 -0.09329499  0.00981354 -0.1107017  -0.09761501\n",
      "  0.07211631  0.11588938 -0.0885411  -0.12241761 -0.19274175 -0.02252774\n",
      "  0.01313498 -0.08306052]\n",
      "group 20 centroid: [ 0.11596829  0.09845984  0.25729787 -0.4102893  -0.20821938 -0.3440654\n",
      "  0.26618823 -0.320477    0.24678133  0.2285439  -0.20499596 -0.30648512\n",
      " -0.37259647 -0.29308593 -0.35451853  0.26030698  0.02663249  0.23476817\n",
      " -0.0436248   0.49128005 -0.05794664 -0.23468573  0.06255227  0.13531472\n",
      " -0.1748419  -0.4483981   0.17814724 -0.25696898 -0.24693102  0.18328981\n",
      "  0.0948536   0.04523294 -0.30938342  0.08097117  0.17049195 -0.3170048\n",
      " -0.01776395  0.3127623   0.11636742  0.5512588  -0.2053606  -0.06841321\n",
      "  0.28969464 -0.34657782  0.36174026 -0.41105312 -0.01297687  0.6221004\n",
      "  0.04557475  0.10296632  0.25233245 -0.23385601  0.11515384 -0.3372491\n",
      "  0.20159657  0.34815633 -0.29955196  0.3518939   0.31277207 -0.129958\n",
      "  0.14514086 -0.2176912  -0.14354017  0.2713668  -0.5184735  -0.12791237\n",
      " -0.1551106  -0.12190107 -0.29448366  0.20473026  0.24334636  0.0923112\n",
      " -0.4001407  -0.30249745 -0.12351412 -0.04897226 -0.30850285 -0.25706324\n",
      " -0.03835564  0.33938608  0.16505025 -0.37000683 -0.11655458  0.02218993\n",
      "  0.01530075 -0.00893492 -0.57232016  0.24158013 -0.33151308 -0.2562101\n",
      "  0.22810367 -0.12543617 -0.6530222   0.2811852  -0.225733    0.45301586\n",
      " -0.15008244 -0.25363073  0.25354627 -0.22922619 -0.19961186 -0.21082906\n",
      "  0.41418594 -0.3014015  -0.2817771  -0.3381425   0.16282007 -0.05610627\n",
      "  0.25398985 -0.01871586 -0.04249926 -0.18412976  0.47993532  0.35371837\n",
      "  0.13899975  0.04017374 -0.2286862  -0.30891988 -0.19007836  0.02786722\n",
      " -0.3933606  -0.22407891  0.09381694 -0.13161291 -0.27814767 -0.3021794\n",
      " -0.23748389 -0.2886894 ]\n",
      "group 21 centroid: [-6.78420588e-02  2.22602129e-01 -7.85268098e-03 -1.48848161e-01\n",
      "  5.85242584e-02 -8.04201737e-02  3.72568332e-02 -2.80480217e-02\n",
      "  6.66911453e-02 -8.34093317e-02  7.11999484e-04  2.47689448e-02\n",
      " -9.31188688e-02  2.81501543e-02 -2.47560535e-02 -7.81043768e-02\n",
      "  1.72840506e-01 -2.65009212e-03  2.00603828e-02 -6.75202608e-02\n",
      " -3.99841033e-02 -1.19870491e-01 -3.83937992e-02 -1.08899735e-01\n",
      " -4.12182808e-02 -1.03518575e-01  7.47585520e-02  3.63205783e-02\n",
      "  2.62210876e-01  4.25385535e-02 -7.87506849e-02 -1.33181721e-01\n",
      "  6.36879802e-02  1.93904176e-01 -8.33594725e-02 -1.64139215e-02\n",
      "  2.63930988e-02  7.18918815e-02  2.81480458e-02  5.44621423e-02\n",
      " -6.10507391e-02  1.68540720e-02  1.00108407e-01 -1.59353524e-01\n",
      " -1.23451054e-01 -1.94163080e-02  5.36433905e-02  4.55236295e-03\n",
      "  4.92801107e-02 -3.49743851e-02 -1.03259616e-01 -4.33050320e-02\n",
      "  7.64063522e-02 -5.24354354e-02  5.73811308e-02 -4.02475260e-02\n",
      " -1.21546671e-01  5.97334802e-02 -7.16070086e-02  5.17846793e-02\n",
      " -5.92020005e-02 -4.80643474e-02 -6.19012974e-02 -9.81139764e-02\n",
      "  1.63210467e-01  7.13661015e-02 -8.89026448e-02 -2.01087236e-01\n",
      "  8.92407671e-02  5.59243746e-02  2.39210259e-02 -1.21371888e-01\n",
      " -5.51126432e-05  2.65424158e-02  1.25087708e-01  7.04010949e-02\n",
      "  2.14628652e-01  1.63065404e-01  5.56370290e-03 -2.41396036e-02\n",
      " -8.97716582e-02  1.73675373e-01  6.44976422e-02  3.89377885e-02\n",
      " -3.57348262e-03  5.78720607e-02 -8.89359489e-02  5.83072044e-02\n",
      "  2.10352689e-02  3.31178643e-02  1.74178171e-03 -3.48747149e-02\n",
      " -8.29656497e-02 -2.90142540e-02  4.73654047e-02  1.53006420e-01\n",
      "  2.42742095e-02  1.05525687e-01 -1.20328657e-01  9.46844816e-02\n",
      "  8.72150958e-02 -1.17561646e-01 -1.07514597e-01 -9.08044353e-03\n",
      "  3.15472856e-02  3.48930433e-02  4.73240130e-02 -1.17632359e-01\n",
      "  7.36100227e-02  9.58250463e-02  1.60194431e-02  9.06694382e-02\n",
      "  1.33048102e-01  2.88886651e-02  6.78970516e-02 -6.90413564e-02\n",
      "  1.05153032e-01 -8.94069895e-02 -1.88128367e-01 -9.44939479e-02\n",
      " -3.46739888e-02 -2.28798892e-02 -1.59468144e-01 -4.66640443e-02\n",
      " -8.83419290e-02 -7.18495622e-02  5.28677516e-02 -1.14925522e-02]\n",
      "group 22 centroid: [-0.24168925  0.14425367  0.18909428 -0.28413826  0.1072029  -0.19049183\n",
      " -0.04824139 -0.31488192  0.0519124   0.09619886 -0.02240162 -0.08148223\n",
      " -0.3161774   0.08221236 -0.05952451 -0.14581853  0.21183385 -0.17351614\n",
      "  0.07536775  0.12789306 -0.03800299 -0.04746018  0.1940455  -0.00968896\n",
      " -0.04532917  0.21876805  0.03198602  0.06323114  0.18179668  0.0272988\n",
      " -0.24865611 -0.10211056 -0.08872861  0.16922703 -0.12325601 -0.29644507\n",
      " -0.0899905   0.13786511  0.20547253 -0.18769744 -0.11636186 -0.044726\n",
      "  0.05490548  0.24763402 -0.28793535  0.08581944  0.03162271 -0.09918134\n",
      "  0.02360707 -0.03111555  0.11104424  0.16680343  0.1913267   0.03174254\n",
      " -0.06576311 -0.2943542   0.16235481  0.10819329  0.00295649 -0.06009609\n",
      "  0.1149516   0.01897051 -0.1551112  -0.1648135  -0.16944295  0.07510756\n",
      "  0.25862855 -0.21224545  0.07017287  0.07936028  0.09638941 -0.05506552\n",
      " -0.2639203  -0.00255243  0.02412268  0.13553321 -0.02416206  0.1124294\n",
      " -0.07384105 -0.03306065 -0.05525416 -0.00673361  0.14077778 -0.0701551\n",
      "  0.1245918   0.04544751 -0.03094655  0.0197551   0.02790201  0.225551\n",
      "  0.06705545 -0.09611712  0.06714208  0.07912139  0.06318845  0.24059394\n",
      " -0.01430553  0.00893551  0.03466733 -0.04394304  0.02161172 -0.05799489\n",
      "  0.03538677 -0.03473544 -0.0958387  -0.00876553  0.00914594 -0.01767004\n",
      "  0.06759628  0.2772903   0.23713052  0.11779691 -0.15882234 -0.1350598\n",
      "  0.10321323  0.08774481 -0.0839813  -0.00354216 -0.20600939 -0.02754497\n",
      " -0.07150538 -0.07584804  0.00563058 -0.02639239 -0.01345561  0.18521395\n",
      "  0.11743089  0.06900972]\n",
      "group 23 centroid: [-0.27591118 -0.08624852 -0.03117608  0.08499066 -0.12652169 -0.27539203\n",
      " -0.16340573  0.05819433 -0.07876734 -0.10820984  0.09385863  0.08034182\n",
      " -0.27845824 -0.03662861 -0.11954416 -0.21267875  0.23227647 -0.04537425\n",
      "  0.03025811 -0.06193286  0.07444607  0.0112025   0.14183685 -0.32841426\n",
      " -0.28892824  0.14325672 -0.17282513 -0.05302533  0.19531877  0.07511409\n",
      "  0.00945362  0.09364585 -0.26121128  0.05530688 -0.11743636 -0.02153001\n",
      " -0.21032716  0.25052822  0.11002981 -0.09073967 -0.11672351 -0.15758\n",
      " -0.06015819  0.15370515 -0.02337602  0.08885024  0.01119467  0.3973257\n",
      " -0.01990226 -0.12580009  0.09755473  0.10186414 -0.10436881  0.04596037\n",
      "  0.08745536 -0.2510785   0.12386932  0.21723303  0.10027155 -0.08019193\n",
      "  0.09106738  0.08271319  0.09070215  0.186642   -0.2989      0.01127874\n",
      "  0.3064225   0.02206436  0.06439326  0.01444183 -0.05292457 -0.00240668\n",
      " -0.1255155  -0.14920399 -0.15403105  0.1595359   0.18748727  0.18229784\n",
      "  0.19786605 -0.2074474  -0.05212662 -0.13438368  0.2748276   0.04493338\n",
      "  0.19366597  0.1892078  -0.23642087 -0.13708371 -0.07616138  0.00323837\n",
      "  0.21734904 -0.1546772   0.16742668 -0.05475558 -0.28368914 -0.06930793\n",
      " -0.17885493  0.02059036 -0.02778655  0.00457105  0.0782043   0.01367515\n",
      "  0.39520347  0.16984096  0.2568773  -0.3110402  -0.08613748  0.04780352\n",
      "  0.26671055  0.19576593  0.1894147  -0.20146286 -0.16352569 -0.11934897\n",
      "  0.10853849 -0.06813538 -0.11368052 -0.19144696 -0.13366808  0.16344732\n",
      " -0.02912284 -0.12816164 -0.04504823 -0.1840257  -0.13581572  0.05433601\n",
      "  0.19337772  0.08099481]\n",
      "group 24 centroid: [-0.04175701 -0.00610719  0.15441515 -0.14534958  0.18329169 -0.09001714\n",
      " -0.0067976  -0.04200502  0.05572318 -0.14177655 -0.03601949  0.13502343\n",
      " -0.24312763  0.15851083 -0.09956487 -0.20687248  0.26983377 -0.06067026\n",
      " -0.10736126  0.11233812  0.10880122  0.07159066  0.05226498 -0.0211706\n",
      " -0.21200198  0.15463157  0.09181631  0.01687037  0.22982468 -0.02333282\n",
      " -0.03895181 -0.08059927 -0.13673563  0.31255698 -0.09839559  0.03716987\n",
      " -0.02911774  0.12603407  0.22840214  0.03852078  0.051756   -0.06214908\n",
      "  0.10458681  0.17511386 -0.17133033 -0.07984158  0.02358811  0.05896595\n",
      " -0.06825069  0.13537207  0.08216358  0.13905077  0.13459893 -0.01548166\n",
      " -0.17293473  0.02061993  0.08360828 -0.07867657 -0.0411521  -0.08060736\n",
      " -0.04247621  0.01850356 -0.18593358 -0.17943513 -0.04075945  0.0712503\n",
      "  0.18085277 -0.26128215 -0.02927576 -0.02275717 -0.09177631 -0.0467631\n",
      " -0.22383216 -0.13747877 -0.04604899  0.20393953 -0.01932806  0.12395038\n",
      "  0.05403525 -0.19305697  0.07942702 -0.00508911  0.27341676 -0.06989126\n",
      "  0.095846   -0.07498399  0.06450787  0.08996275 -0.07671402  0.1081319\n",
      " -0.01063338 -0.0432175  -0.0474909  -0.03587006  0.02985137  0.12147818\n",
      "  0.02174273  0.06476048  0.02592226  0.21022418  0.15548213  0.04595359\n",
      "  0.06423916  0.07569668  0.09524726  0.07994896 -0.16927625  0.09605067\n",
      "  0.14137837  0.22797738  0.12729584 -0.05541576 -0.07969745 -0.10427086\n",
      " -0.01097346 -0.01987134  0.18001689 -0.15331514 -0.21105719 -0.03068699\n",
      " -0.01131392 -0.02590798  0.0265655  -0.00149179  0.08156841  0.14159408\n",
      "  0.09983549 -0.01819931]\n",
      "group 25 centroid: [-0.21929616  0.05379074  0.10192178 -0.02116898 -0.10520037 -0.1918894\n",
      "  0.09980039 -0.21882491  0.06326441  0.02772232 -0.2114541  -0.24006613\n",
      " -0.14379846 -0.15101553 -0.06146245  0.10236096  0.07637309  0.08757997\n",
      " -0.03393733  0.11202836  0.02954353  0.06162224  0.07173193 -0.09169658\n",
      " -0.00393015 -0.2065422  -0.10586726 -0.0644024   0.12212086 -0.14313842\n",
      "  0.11718836 -0.0147059  -0.32745463  0.05314082 -0.22370166 -0.13354251\n",
      " -0.10658842  0.18207428  0.04074563 -0.15351588 -0.12874913  0.12937196\n",
      "  0.27752668 -0.11562517 -0.02955449 -0.21308437  0.03765823  0.2655735\n",
      "  0.23604731  0.11181836 -0.19356368 -0.04953409 -0.01186016  0.02258901\n",
      "  0.06713334  0.00812869 -0.3251683   0.18097714  0.2236577  -0.16255954\n",
      "  0.13992009 -0.0824012  -0.02023093  0.1074886  -0.2287479   0.01301713\n",
      "  0.01362269 -0.15002541  0.07932298  0.07783204 -0.03885064 -0.08349871\n",
      " -0.17464018 -0.00437848  0.14294781 -0.22542045 -0.21260236 -0.15480603\n",
      "  0.2136812   0.07551498  0.13075444  0.00159377 -0.05970304  0.17162363\n",
      "  0.15966164  0.15599708 -0.25615627  0.14469099 -0.14927985 -0.08270382\n",
      "  0.18057665  0.01435917  0.02471798  0.0586696  -0.06164696 -0.00245438\n",
      " -0.15782388 -0.11898845 -0.08556112 -0.012648    0.08318763 -0.14136396\n",
      "  0.3759749  -0.13486762 -0.04741136 -0.347826    0.04533971 -0.06756105\n",
      "  0.08217277  0.08337232  0.13841227 -0.15263377  0.13591658  0.05019483\n",
      "  0.21247964 -0.07087092 -0.20084302 -0.23483583 -0.12262566 -0.15779534\n",
      " -0.07727894  0.20416817 -0.29021674 -0.11963059 -0.11981903 -0.01536873\n",
      "  0.01989076 -0.01391834]\n",
      "group 26 centroid: [ 0.02244072  0.133326   -0.23106682 -0.04541382  0.0919975  -0.23838273\n",
      " -0.13263372 -0.05421282  0.16286893 -0.14763683 -0.14074616  0.05190248\n",
      "  0.04538462  0.08226817  0.02371299  0.04759619 -0.00924558 -0.03803131\n",
      "  0.17920719  0.1284469   0.10875013 -0.03251718 -0.07560199 -0.17193176\n",
      " -0.07752364  0.01656504 -0.01600071 -0.00084214  0.19499478  0.16313197\n",
      "  0.09141846  0.11090004  0.01494971  0.15371618  0.03888883 -0.03432128\n",
      " -0.06697483  0.12679549 -0.00884456  0.08880562 -0.17554425  0.14061293\n",
      "  0.09962048  0.07327855  0.07667049 -0.00380499  0.01500848  0.12266141\n",
      " -0.05928506  0.02682427 -0.06789235 -0.04452793 -0.07765513  0.00295283\n",
      " -0.12137292  0.12512232 -0.1483511   0.04337243 -0.00079345  0.08075586\n",
      " -0.15248904 -0.09488389 -0.04586188 -0.06939197  0.03607019  0.12948324\n",
      " -0.0261825   0.10180923 -0.13038439  0.1220368  -0.02837147 -0.01629369\n",
      "  0.02545278 -0.0300422   0.03646106 -0.00226406  0.15179332 -0.05642885\n",
      " -0.12525672  0.01548892 -0.01644699  0.02462345  0.08797013  0.01846289\n",
      "  0.04447505 -0.14615412 -0.04844319  0.00379191 -0.14371304 -0.00316808\n",
      " -0.10287947 -0.0673531   0.08664142 -0.24233575 -0.0998408   0.02611016\n",
      " -0.03782722  0.06524009  0.0024329   0.10254163  0.12299501 -0.17017968\n",
      "  0.14242418 -0.07454656  0.1824158  -0.09895627 -0.11193367 -0.00908664\n",
      "  0.2287018   0.03433187 -0.02750646 -0.13263465  0.10188499  0.007644\n",
      " -0.07804456 -0.03602897  0.05249203 -0.07057021 -0.16529438 -0.04295434\n",
      " -0.12006614  0.20141765 -0.3646368  -0.26660094 -0.10190085  0.01227606\n",
      " -0.07928623 -0.06157668]\n",
      "group 27 centroid: [ 2.05393555e-03  2.18046516e-01  5.55102937e-02 -1.80934221e-02\n",
      "  8.62430409e-02 -1.84154972e-01  1.41369820e-01  8.95681456e-02\n",
      "  4.08397838e-02 -1.36746809e-01 -9.72640514e-02 -2.44357660e-02\n",
      "  4.89885882e-02  8.90654176e-02 -1.03046469e-01  7.79384822e-02\n",
      " -2.27610189e-02  1.52558506e-01  1.81357667e-01 -1.88716680e-01\n",
      " -5.64518310e-02  1.04270153e-01  1.85174737e-02 -2.17953429e-01\n",
      " -5.78655899e-02 -1.48844004e-01  8.87464136e-02 -1.50723904e-01\n",
      "  1.76249921e-01  1.24017246e-01 -1.60738766e-01  3.61641236e-02\n",
      " -1.33715630e-01 -7.49267861e-02  1.36451814e-02 -1.30023986e-01\n",
      " -8.73027891e-02  1.78171962e-01  1.80321988e-02  1.12902028e-02\n",
      " -2.18452603e-01  9.30319726e-02  2.05916185e-02 -9.02407467e-02\n",
      " -1.44477203e-01  1.10714417e-02 -1.18198946e-01 -1.64520112e-04\n",
      "  1.52333379e-01 -7.18591362e-02  7.64785185e-02 -1.44249082e-01\n",
      " -8.86811092e-02 -1.97091669e-01  1.98170438e-01 -4.99280803e-02\n",
      " -1.94800928e-01 -1.30448863e-01 -9.14504975e-02  4.12011519e-02\n",
      " -5.83926998e-02 -1.12941481e-01 -1.44879416e-01 -1.04225770e-01\n",
      "  1.79462284e-01  1.95707992e-01 -1.55536237e-03 -1.51077777e-01\n",
      " -8.47570077e-02  6.42336980e-02 -1.25609919e-01 -4.14902307e-02\n",
      "  2.05549207e-02  3.17981094e-02 -1.32351965e-01 -3.00642163e-01\n",
      "  7.21079484e-02  1.91899086e-03 -1.81271676e-02 -1.51356123e-02\n",
      " -8.71878117e-02  2.63934910e-01 -4.83545959e-02  8.86014253e-02\n",
      " -7.68163577e-02 -2.12015584e-02  1.27150580e-01 -4.14093398e-02\n",
      "  2.18453154e-01  8.60299915e-02  1.32447615e-01 -8.30699224e-03\n",
      " -1.51466385e-01 -1.36407509e-01 -5.57324812e-02 -4.61840741e-02\n",
      " -3.24448682e-02  5.64901121e-02 -1.41999796e-01  1.79039299e-01\n",
      "  1.71244100e-01 -1.78453788e-01 -2.01358106e-02 -1.31630242e-01\n",
      "  4.44966294e-02 -3.25181633e-01  9.64540243e-02 -1.16177559e-01\n",
      "  1.53892357e-02  4.77744900e-02  3.92049924e-02  2.92603392e-02\n",
      "  1.78679332e-01 -3.24611776e-02 -2.79502012e-02 -3.98516692e-02\n",
      " -1.33323539e-02 -1.66130826e-01 -1.74678490e-01 -1.78376704e-01\n",
      " -3.95365357e-02 -1.37727400e-02 -2.41316333e-01 -1.64213210e-01\n",
      " -1.45518808e-02 -1.51202112e-01  3.81610133e-02 -7.30762482e-02]\n",
      "group 28 centroid: [ 2.43868217e-01  2.96446055e-01 -8.91250297e-02 -1.12011701e-01\n",
      "  3.94431800e-01 -2.60627866e-01  3.09445113e-01 -2.79698938e-01\n",
      "  8.67765173e-02 -3.72875482e-01  2.01069638e-01 -2.28954549e-03\n",
      " -4.04708683e-01 -2.01929867e-01  3.63669991e-02 -1.86698467e-01\n",
      "  2.05178350e-01 -3.67714882e-01 -4.64772105e-01  2.27353111e-01\n",
      "  2.52522767e-01  5.14056742e-01  4.91447560e-03  1.41552612e-01\n",
      " -3.96991342e-01 -3.23564112e-01  1.82844356e-01 -3.01879644e-01\n",
      "  9.59477499e-02  4.31282997e-01 -2.90796813e-02 -1.75957590e-01\n",
      " -2.74817914e-01  5.80572803e-03 -4.11939472e-01  2.18447119e-01\n",
      " -2.22818181e-01  2.06514284e-01  1.70321286e-01  4.00785446e-01\n",
      " -1.25420168e-01  2.99815655e-01  7.23473012e-01  3.55018705e-01\n",
      " -6.15665317e-01 -3.86267900e-01 -1.44407339e-02 -7.88339302e-02\n",
      " -1.95364691e-02  4.54451114e-01 -1.10663399e-01  2.22476780e-01\n",
      "  5.64609421e-03  1.10497862e-01  1.36109695e-01  6.72615096e-02\n",
      "  4.23170358e-01  6.62445426e-02 -1.29979670e-01  2.52714544e-03\n",
      " -3.33393782e-01  2.49212131e-01  1.31522594e-02 -3.16971660e-01\n",
      "  9.84396636e-02 -1.21294446e-01  3.97123881e-02  2.95252919e-01\n",
      "  1.36809230e-01 -1.56468228e-01 -1.94895059e-01  1.51119784e-01\n",
      " -4.57465470e-01  5.21850176e-02 -1.02178164e-01  4.32361841e-01\n",
      " -1.63240701e-01  7.80838802e-02 -8.66530910e-02  1.28352112e-04\n",
      " -8.35149810e-02  1.21571079e-01  4.81067002e-01 -5.23524940e-01\n",
      " -4.35094349e-02 -9.61740613e-02  3.33830237e-01  3.05625618e-01\n",
      "  8.33772216e-03  3.95481229e-01  2.38625467e-01 -2.17146024e-01\n",
      "  1.86332911e-01  1.60917148e-01 -2.31874526e-01 -1.89356077e-02\n",
      " -1.31046355e-01  4.55081075e-01 -2.96629578e-01  3.96149814e-01\n",
      "  6.43006489e-02  2.92147677e-02  3.24229509e-01  2.97719061e-01\n",
      "  1.85852140e-01  2.76986659e-01 -2.59480387e-01 -5.93324266e-02\n",
      "  9.53820199e-02  1.21642560e-01  3.73895884e-01 -1.82954311e-01\n",
      "  2.61926919e-01  1.23573273e-01  4.37363178e-01  1.73964411e-01\n",
      "  2.70412892e-01 -2.21063182e-01 -4.26425606e-01 -1.23874843e-01\n",
      " -7.39522651e-02 -1.43378049e-01 -3.06247205e-01 -1.41271248e-01\n",
      "  1.76784322e-01  1.57580554e-01  3.71691585e-01  2.03721538e-01]\n",
      "group 29 centroid: [ 0.1754558  -0.01017665 -0.07118885 -0.21005422  0.1105294  -0.04745211\n",
      " -0.10238944  0.12171417  0.17205249 -0.12675807 -0.22521256  0.08411458\n",
      " -0.05197882 -0.09900993  0.09443912 -0.24934703  0.05292644  0.06064625\n",
      "  0.2221947   0.09452597  0.10962503 -0.03344227 -0.00948777 -0.20599204\n",
      "  0.11808328 -0.04335975  0.03374865 -0.103227    0.21436529  0.07151797\n",
      " -0.0353353   0.02418185  0.02555198  0.23147069  0.01959662  0.03230562\n",
      "  0.14336145  0.07036141  0.20712927  0.09092926 -0.16807172  0.20695938\n",
      " -0.25691786  0.00692346 -0.11985544  0.0414751  -0.16775708 -0.01038231\n",
      " -0.08302137 -0.04340167  0.08608642  0.12103862  0.02897908 -0.07393477\n",
      "  0.05332499 -0.11825357 -0.11920588 -0.05746198  0.13386835  0.16923293\n",
      "  0.1077067   0.00424012 -0.26153165 -0.07452461 -0.12520479 -0.07986944\n",
      "  0.19019505 -0.18826672  0.1583161  -0.01143706  0.05248394 -0.09539422\n",
      " -0.2592222  -0.13364068  0.01804277 -0.21855985 -0.10154442 -0.02054791\n",
      " -0.09886572 -0.05939728 -0.06750849  0.01761735  0.00764105 -0.17548087\n",
      "  0.00500809  0.09447232 -0.03377904 -0.16357067  0.01113783 -0.00827838\n",
      "  0.1331682   0.01033543  0.02378847 -0.13571964  0.08411141 -0.08862294\n",
      " -0.0281463  -0.06725867 -0.0931538   0.03439077  0.15144262 -0.14043915\n",
      " -0.05298611  0.03980794  0.20064919  0.15970515 -0.18069686 -0.02976298\n",
      "  0.07613151  0.13788547 -0.31209993 -0.03739008  0.07425234 -0.25209138\n",
      " -0.13471754 -0.05160219  0.03696627  0.3424709   0.00920673 -0.10440797\n",
      "  0.17700446 -0.01718763 -0.05478495 -0.27043328 -0.39026457 -0.3237308\n",
      "  0.29134044 -0.04038456]\n",
      "group 30 centroid: [ 1.58126969e-02  1.48928463e-01  1.14842638e-01 -2.57776111e-01\n",
      "  1.63888529e-01 -5.97572848e-02  7.38090575e-02  1.17638605e-02\n",
      "  1.60030350e-01 -1.36495493e-02 -8.84745717e-02 -4.20474745e-02\n",
      " -1.34799808e-01  1.55903157e-02 -7.01350672e-03 -6.76442534e-02\n",
      " -1.93142090e-02 -1.05560929e-01  7.26102814e-02  5.60436100e-02\n",
      " -6.36647046e-02 -1.40507177e-01 -1.59665998e-02  3.30737792e-02\n",
      " -8.34056213e-02  8.34431052e-02  4.94388603e-02 -2.70367283e-02\n",
      "  1.67142618e-02 -5.64604765e-03 -1.16383441e-01 -2.31233500e-02\n",
      " -2.08753049e-02  1.95612922e-01  5.22437505e-04 -1.01421535e-01\n",
      " -8.11113231e-03  7.73490891e-02  7.90448189e-02 -1.63350650e-03\n",
      " -1.35794744e-01  6.53765500e-02  1.37079805e-02  5.55796735e-02\n",
      " -9.36391577e-02 -7.20207170e-02  5.08664399e-02 -5.58115952e-02\n",
      "  1.12138474e-02  8.01514685e-02 -4.41159531e-02 -2.20413115e-02\n",
      "  1.00333139e-01 -4.08511003e-03 -6.52350709e-02 -9.35839936e-02\n",
      "  2.04732399e-02  8.58297944e-02  4.79826853e-02 -9.77607444e-02\n",
      " -4.39348519e-02 -6.86503872e-02 -1.31331995e-01 -2.06573866e-02\n",
      " -2.07612161e-02  2.94948872e-02  5.26313558e-02 -1.25023559e-01\n",
      "  7.04345554e-02  1.43952519e-01  5.29450513e-02 -8.50433558e-02\n",
      " -1.69491634e-01 -7.52016604e-02  4.31384109e-02  9.85063389e-02\n",
      "  1.33973867e-01  4.69704531e-02 -9.19052511e-02 -1.00437999e-01\n",
      " -2.51311697e-02  4.78573851e-02  9.44781676e-02  1.20183744e-01\n",
      "  6.22772090e-02 -3.04473191e-02 -1.40621498e-01 -1.28760291e-02\n",
      "  1.94990644e-05 -4.34987620e-03  1.34719089e-01 -1.01638034e-01\n",
      "  1.76897959e-03  3.62743288e-02  3.19440179e-02  8.48499462e-02\n",
      "  9.68055204e-02 -7.63022304e-02  1.00182183e-01  5.92040047e-02\n",
      "  9.12899002e-02 -1.46809727e-01  1.97569132e-02 -8.05740282e-02\n",
      "  1.68876145e-02 -2.55247159e-03 -3.45971547e-02  8.04622844e-03\n",
      "  9.98192355e-02  1.27804637e-01  8.27260166e-02  1.36242598e-01\n",
      "  8.76710638e-02 -5.50098997e-03 -6.69239387e-02  8.28140527e-02\n",
      "  1.98314507e-02  6.65698946e-02 -1.54766381e-01 -1.38757527e-02\n",
      " -7.43162930e-02  5.25701642e-02 -6.90593297e-05 -7.11101443e-02\n",
      " -1.00245468e-01 -7.74700493e-02  1.08460620e-01 -5.78268096e-02]\n",
      "group 31 centroid: [ 3.8001037e-04 -4.0684440e-03 -1.9614227e-04 -4.6265169e-04\n",
      "  1.3682174e-03 -5.0990148e-03  1.7383336e-03 -6.6347537e-03\n",
      "  4.1841387e-05 -1.4399968e-03 -1.2702338e-03  2.4564513e-03\n",
      " -6.3348166e-04  3.7574719e-03 -4.7267723e-04  1.8396913e-03\n",
      "  5.5922207e-04 -2.1761756e-03 -2.0943419e-03  9.6216082e-04\n",
      " -2.0174792e-03 -1.1596285e-03 -2.8118237e-03 -3.9212737e-04\n",
      "  1.8786386e-03 -4.0830814e-04 -5.0599920e-04  4.1856089e-05\n",
      "  2.9147491e-03 -2.1146901e-04 -3.8649247e-03  7.4340467e-04\n",
      " -2.0770740e-03  9.9135248e-04  5.0416973e-04  2.4511060e-04\n",
      "  3.5023054e-03 -9.0111767e-05 -9.2362391e-04  2.4537151e-03\n",
      " -4.0707462e-03  1.7694203e-03  1.2887625e-03 -1.6386777e-03\n",
      " -3.9709038e-03 -4.3933764e-03  2.4524112e-03  2.5074068e-03\n",
      " -5.0528375e-03  1.0326779e-03 -5.3451426e-04  1.8585395e-03\n",
      "  2.7528361e-03  2.1430517e-03 -1.0035548e-03 -1.0328291e-03\n",
      " -2.8090042e-03 -3.2541582e-03 -2.9619350e-03 -9.8924083e-04\n",
      "  5.0193537e-03  1.7624017e-03  5.7376870e-05  3.4700255e-03\n",
      "  1.5890094e-03 -4.3578946e-04  6.8211933e-03 -2.8355434e-03\n",
      " -7.7688112e-04 -3.1535628e-03 -3.4531350e-03 -7.4267329e-04\n",
      "  3.3556836e-04 -1.2860723e-03  1.4289547e-03 -4.6983752e-03\n",
      " -9.3779759e-04  1.6881891e-03 -3.9934414e-04 -3.8734134e-03\n",
      " -6.9117110e-04  3.0705049e-03 -5.1721237e-03 -1.2338605e-03\n",
      " -3.6605652e-03 -3.7552132e-03  1.5732052e-03 -5.1782432e-04\n",
      " -5.0051510e-04 -1.5865589e-03 -2.8990693e-03  4.4211317e-04\n",
      " -1.5579021e-03 -4.5020338e-03 -3.4185301e-04 -2.4489141e-03\n",
      "  5.7336250e-03 -5.6504929e-03 -5.9542228e-03 -1.1600765e-03\n",
      "  3.3455854e-03 -2.3099617e-03  8.5492228e-04  3.1106861e-03\n",
      "  2.8764189e-04 -1.8618994e-03 -2.0448546e-05  4.0223310e-03\n",
      "  9.3152479e-04  1.7454633e-03  5.8979669e-04 -1.7607746e-03\n",
      "  2.5541182e-03 -2.0097787e-03 -7.8408414e-04 -2.2487706e-03\n",
      "  2.6685261e-04 -1.8327422e-03  1.4839533e-03 -1.9991500e-04\n",
      "  1.2509384e-04 -1.1610895e-03 -4.1423049e-03  9.6897117e-04\n",
      "  4.2064325e-03  2.7846133e-03 -2.5338740e-03  1.3655450e-03]\n",
      "group 32 centroid: [-0.03403492  0.17652485 -0.04552177 -0.15445487 -0.02337634 -0.17958112\n",
      "  0.07954614  0.00798284  0.10516611  0.04325021 -0.0105165  -0.1685016\n",
      " -0.00661262  0.01625929 -0.06704047 -0.02963776  0.10770389 -0.0835446\n",
      "  0.07837622  0.02953418 -0.01069526 -0.09944829  0.21815205 -0.04997243\n",
      " -0.00047567  0.01009076 -0.08741263 -0.08902688  0.16147314 -0.08213844\n",
      " -0.06133176  0.02636189 -0.21711355  0.21935128  0.04647789 -0.12861705\n",
      " -0.03271914  0.2028822   0.04730108 -0.06008336 -0.15478122 -0.07616118\n",
      "  0.1697856   0.02448455 -0.00407905  0.09111442  0.04830032  0.1382803\n",
      "  0.05371315 -0.02700961  0.05140711  0.04259799  0.1341043  -0.04427086\n",
      " -0.03085399 -0.11589786  0.0516542   0.14352441  0.01227774 -0.04338242\n",
      "  0.0960469  -0.160171   -0.12192159  0.080605    0.00444753  0.0628133\n",
      "  0.03679506  0.0703317   0.10605518  0.10777579 -0.01363094  0.06168928\n",
      " -0.10958172 -0.05425641 -0.0391396   0.12403174 -0.05649763  0.04672993\n",
      "  0.12679283 -0.09811601 -0.0376875  -0.06010309  0.07740947 -0.01091442\n",
      " -0.0899175   0.02145727 -0.06614171 -0.00773646 -0.00664804  0.05020222\n",
      " -0.10714356 -0.05163569 -0.05910802  0.01279997 -0.02026824  0.16814233\n",
      "  0.12683761 -0.05262041  0.03950864 -0.01564693 -0.0204891  -0.15782037\n",
      "  0.26735806 -0.0236157   0.02644688 -0.02978745 -0.05042334 -0.04648307\n",
      "  0.03492041  0.15669844  0.03418937  0.10099419  0.0226863   0.01390838\n",
      "  0.00494228  0.05923982 -0.08456564  0.00927159 -0.08862162 -0.08001028\n",
      " -0.02351861  0.06158542  0.03193337 -0.04106217 -0.12913576  0.1420686\n",
      "  0.08468303  0.06192121]\n",
      "group 33 centroid: [ 0.03707534  0.18353128 -0.08915327  0.0074131  -0.02077331 -0.09789828\n",
      "  0.12491399 -0.06336697  0.05412611 -0.00494561 -0.05996685 -0.21906082\n",
      "  0.14823839  0.10654163 -0.02205336  0.12634087 -0.05477576 -0.00485978\n",
      "  0.14413086 -0.085554   -0.11727389 -0.00338747 -0.05917207 -0.1685158\n",
      "  0.15096548 -0.16885258 -0.14595191 -0.14366458  0.09180494 -0.01624879\n",
      " -0.18373671 -0.03485697 -0.27167523  0.08235402 -0.15005203 -0.13862185\n",
      "  0.0956974   0.17075364 -0.05862025 -0.15802269 -0.1557697   0.14957073\n",
      "  0.04135714 -0.00751158 -0.0364533  -0.09433836 -0.06245346  0.06733622\n",
      "  0.15115005  0.07155427 -0.161022    0.08051345  0.0317211  -0.16642469\n",
      "  0.01775958  0.05640999 -0.10899687  0.03845689  0.05910622 -0.2028645\n",
      "  0.06697942 -0.13244556 -0.09636404  0.14280492  0.15134674  0.19442546\n",
      "  0.07792236  0.05047663 -0.04695138  0.12793364 -0.20619462 -0.01024305\n",
      "  0.12047478 -0.03127717 -0.03413394 -0.12386474 -0.0728559  -0.08468449\n",
      "  0.0824715  -0.00434898 -0.06816626 -0.00195546  0.04606505  0.10388541\n",
      " -0.13586038  0.2315543  -0.12478871  0.09355848  0.01117156 -0.03877682\n",
      " -0.09091525 -0.08775318  0.01577252  0.00908662 -0.0614097   0.04939102\n",
      " -0.00100718 -0.09214356  0.09369173  0.17454222  0.0176852  -0.23276038\n",
      "  0.17131324 -0.11766253  0.10606073 -0.09704561 -0.00638598  0.07585996\n",
      " -0.00911778  0.06645658  0.08146427  0.14549676  0.17096323  0.09422375\n",
      "  0.06688391  0.11854392 -0.10194369 -0.19829991 -0.113505   -0.18442184\n",
      "  0.01647235  0.19577816 -0.06568299 -0.194259   -0.19565059  0.11589929\n",
      " -0.15814444  0.05796472]\n",
      "group 34 centroid: [-0.26961294 -0.00744334  0.3259255   0.0969722   0.07933547 -0.15489818\n",
      " -0.1312808  -0.31117713  0.05397683 -0.17609897  0.19495517 -0.02501073\n",
      " -0.23256329 -0.08776309  0.1145253  -0.1358004  -0.14741232 -0.10820172\n",
      " -0.07003905 -0.0667741  -0.07886293  0.09024911  0.12267143 -0.32515794\n",
      " -0.13327208 -0.09054934 -0.15934277 -0.15856881 -0.05783133 -0.02537767\n",
      "  0.12187885 -0.02660451  0.07339626 -0.1703649  -0.30974874 -0.1251017\n",
      "  0.00307712  0.11573519  0.04455008  0.1010476  -0.09813776 -0.15225348\n",
      "  0.19308957  0.05138239  0.08645184 -0.18106239  0.081201    0.10946453\n",
      "  0.0316742  -0.09728521 -0.16308239 -0.12942661 -0.04062743 -0.21650697\n",
      "  0.24020837 -0.2504765   0.03588381  0.16513902  0.09551699 -0.14105247\n",
      " -0.10800397 -0.00623942 -0.03826729 -0.09617122 -0.13485378  0.15608498\n",
      "  0.15612406 -0.00769974 -0.0228709   0.12623923 -0.09545467 -0.04910233\n",
      " -0.19567093 -0.11648659 -0.04693561 -0.12473964  0.20770499  0.2286997\n",
      " -0.03456536 -0.13955621  0.00685599  0.22062802  0.14834678  0.11167805\n",
      " -0.0384543   0.254257    0.02707208 -0.07063881  0.15498663  0.23587704\n",
      "  0.26307392 -0.12637903 -0.04474507 -0.01125014 -0.12997618 -0.06082763\n",
      "  0.13803698 -0.0158604  -0.19651107  0.15328111  0.2950245  -0.11699696\n",
      "  0.0965212   0.01244922  0.1377861  -0.37958246  0.29307526 -0.12589994\n",
      "  0.17398411  0.14655963  0.13707589 -0.2274052   0.03400015 -0.08109538\n",
      "  0.1825562   0.0984828  -0.02126214 -0.01740202 -0.13767244  0.1206872\n",
      "  0.12067872  0.1836767  -0.16256365 -0.00650705  0.04236127 -0.24266727\n",
      "  0.15812215  0.03171542]\n",
      "group 35 centroid: [ 2.01793090e-01 -1.69205107e-02 -6.32985458e-02 -2.25886986e-01\n",
      " -1.76467553e-01 -2.66251236e-01 -1.72676202e-02 -8.98460895e-02\n",
      "  1.07301362e-01  1.62615433e-01 -5.27393222e-02  8.12537968e-02\n",
      " -1.24482000e-02  2.06971437e-01 -1.66377127e-01 -1.18000656e-02\n",
      " -1.89375831e-04 -2.77115226e-01 -3.46568167e-01 -4.31628019e-01\n",
      "  1.26788661e-01 -2.12216079e-01 -4.54363525e-02  3.81284915e-02\n",
      " -1.19623612e-03 -2.53701627e-01  2.14353010e-01  7.68298432e-02\n",
      "  3.61338183e-02 -3.40165019e-01 -3.52572389e-02 -1.60182416e-01\n",
      " -3.16575378e-01  4.07329708e-01  3.25133890e-01  7.07461461e-02\n",
      " -4.73484814e-01  3.07517648e-01  5.17851859e-02  1.94843858e-01\n",
      " -7.52247199e-02 -6.85834587e-02 -1.03189111e-01  9.72357914e-02\n",
      "  4.47655231e-01  4.97151315e-02  5.95195293e-01 -3.02006245e-01\n",
      " -3.61834556e-01  4.76454291e-03 -2.27336779e-01 -1.86906621e-01\n",
      "  1.98814839e-01 -1.76241174e-01 -3.18708345e-02  2.68949032e-01\n",
      " -3.14931542e-01  7.27395117e-02  6.46184161e-02 -1.94597349e-01\n",
      " -2.13619277e-01 -2.49998853e-01  5.73013499e-02 -1.87185913e-01\n",
      " -2.66125023e-01 -6.18881136e-02 -2.56084681e-01  2.86946148e-01\n",
      "  3.28383923e-01  2.98712075e-01  7.69568086e-02  4.70716864e-01\n",
      "  2.48037651e-01  1.46726206e-01  8.93768743e-02 -3.53310168e-01\n",
      "  1.73834085e-01  1.10243924e-01  4.41925049e-01 -4.95237023e-01\n",
      "  1.09300733e-01 -4.50992286e-02  5.56442738e-02  1.86642744e-02\n",
      "  1.36141598e-01 -3.30287427e-01  1.66827857e-01  1.21090390e-01\n",
      " -1.51725352e-01 -2.89445132e-01 -2.36978695e-01 -2.68355031e-02\n",
      " -8.42812508e-02 -1.40708119e-01 -3.33275199e-02 -1.10826142e-01\n",
      " -7.14401528e-03 -1.08147554e-01 -1.00983195e-01 -7.22486079e-02\n",
      " -1.88749194e-01 -8.58141333e-02 -8.32697377e-03 -3.85337621e-01\n",
      "  1.46780685e-01 -6.68663383e-02  3.85662645e-01 -2.45009512e-01\n",
      "  3.47972251e-02  1.12175502e-01 -8.24609250e-02 -1.26803428e-01\n",
      "  1.88453048e-02 -1.80867866e-01  2.25656688e-01 -4.66505811e-02\n",
      " -1.41546234e-01 -3.76573235e-01  2.39366014e-02 -4.44565713e-02\n",
      " -2.59936601e-01  4.43785071e-01 -4.32656020e-01 -4.77523357e-02\n",
      " -4.58668023e-02 -1.71718359e-01 -8.49195421e-02 -4.67213511e-01]\n",
      "group 36 centroid: [-0.04507969  0.16550301 -0.04273401 -0.3243313  -0.00293755 -0.27858925\n",
      "  0.17048742 -0.17662871  0.04377124 -0.05889252  0.08386007 -0.07151701\n",
      " -0.15815702 -0.08192013  0.1460324  -0.11390598  0.16008103 -0.01172782\n",
      "  0.19553246 -0.12238488  0.06130621  0.10577517  0.14615706 -0.2009053\n",
      "  0.16372281 -0.07687505 -0.11061547 -0.01787261  0.24861284  0.19188032\n",
      " -0.07559846 -0.17432767  0.05159424  0.11470667 -0.18958186 -0.25370926\n",
      " -0.03148208  0.15430109  0.03332784  0.10973929 -0.18869026 -0.09091269\n",
      "  0.1450054  -0.08197882  0.13188942  0.08286309 -0.07250709 -0.06088109\n",
      " -0.02659142 -0.05981931 -0.08535275 -0.08708889  0.00489513  0.02552489\n",
      "  0.12199661 -0.09223504  0.05839536  0.22100016 -0.10169839  0.3310188\n",
      "  0.19444504 -0.09431662 -0.15727493 -0.06613076  0.08820693  0.16440946\n",
      " -0.11704398  0.08735527  0.13261588 -0.04940404 -0.04255033 -0.04076109\n",
      " -0.15333158  0.02786968  0.08387568 -0.08690038  0.06739007  0.1962825\n",
      "  0.01176853 -0.1110855  -0.16183159  0.19512554  0.04515533 -0.16965392\n",
      "  0.03980447  0.16133253 -0.11355612 -0.11506802 -0.01353525  0.0310884\n",
      " -0.08933932 -0.02030484  0.1627518  -0.09776423  0.08569255  0.06992049\n",
      " -0.01211533 -0.00681182 -0.069107    0.00581419 -0.03832941 -0.1703431\n",
      "  0.02031049 -0.08493888 -0.08366203  0.05834365  0.17855985 -0.18671353\n",
      "  0.01881356  0.13467383 -0.07953843  0.12236087 -0.03310436 -0.0551266\n",
      "  0.20336658  0.00348328  0.1061046   0.05826921 -0.14927162 -0.00182402\n",
      "  0.04376991  0.14821061 -0.12182967 -0.01111365 -0.13284709 -0.2463824\n",
      "  0.32597283  0.06922416]\n",
      "group 37 centroid: [-2.86581628e-02  1.30791873e-01  3.36288691e-01 -4.57395762e-02\n",
      "  2.20711723e-01 -9.87902880e-02  1.79894403e-01 -1.20563522e-01\n",
      "  3.80923748e-02 -7.36779273e-02 -3.59768197e-02 -1.35394201e-01\n",
      " -1.43980011e-01 -5.27900793e-02 -6.39631273e-03  3.67819555e-02\n",
      " -1.76196933e-01 -7.87055865e-03  7.39487261e-02 -2.03034043e-01\n",
      " -1.92594394e-01 -1.71290338e-01  4.19039242e-02 -1.67311177e-01\n",
      " -6.17011786e-02 -1.16172731e-01  9.00272578e-02 -1.06664501e-01\n",
      "  5.52610308e-02 -3.89452428e-02 -1.88721165e-01 -1.30813390e-01\n",
      "  4.47368473e-02 -1.67772412e-01 -1.69412613e-01 -1.46992519e-01\n",
      "  1.56244840e-02  1.33661166e-01  6.01759739e-02 -6.62291348e-02\n",
      " -1.74151450e-01 -7.44818673e-02  1.69992432e-01 -9.45901573e-02\n",
      " -1.61548838e-01 -1.54248431e-01  1.27682565e-02 -7.63146579e-02\n",
      "  2.48576835e-01 -3.53093483e-02 -1.74186841e-01  4.33056727e-02\n",
      "  1.44131090e-02 -1.63347587e-01  1.72288254e-01 -2.90064067e-01\n",
      " -2.85251718e-02  1.03783146e-01 -5.55813573e-02 -8.80888402e-02\n",
      "  7.95678981e-03 -8.84065479e-02 -9.39925313e-02 -1.00302681e-01\n",
      "  4.78036553e-02  1.52383342e-01  2.22442579e-02 -6.98378906e-02\n",
      " -2.89305914e-02  8.09391141e-02  9.48001747e-04 -7.83759952e-02\n",
      " -9.51700509e-02  1.34127506e-04  4.98866849e-02 -1.80132374e-01\n",
      "  1.84254184e-01  9.44502503e-02 -4.24546264e-02 -2.89887898e-02\n",
      " -2.32156385e-02  2.97751218e-01  1.35865239e-02 -4.04128395e-02\n",
      " -9.29058939e-02  1.22273244e-01 -1.54652838e-02  8.12682211e-02\n",
      "  2.12327331e-01  1.57882750e-01  1.02225453e-01 -6.35760352e-02\n",
      " -2.82545686e-01  6.12629540e-02  3.66711356e-02 -1.91214960e-02\n",
      "  2.07965765e-02 -8.52367431e-02 -8.84723961e-02  1.00523993e-01\n",
      "  2.43810743e-01 -1.67708144e-01 -6.66318387e-02 -8.32324922e-02\n",
      " -1.86348986e-02 -3.94264370e-01  3.04687142e-01 -1.14620127e-01\n",
      "  6.17673397e-02  1.25127479e-01  1.53148204e-01 -1.22265320e-03\n",
      "  1.62049130e-01 -9.99075244e-04 -1.41441924e-02  9.09527913e-02\n",
      " -3.22746821e-02 -1.09580591e-01 -1.62600830e-01  1.12428740e-02\n",
      " -1.19069643e-01  1.01382770e-01 -1.12186104e-01  3.10311606e-03\n",
      " -3.01932059e-02 -1.42230645e-01  5.79171628e-02  1.29979864e-01]\n",
      "group 38 centroid: [-0.2294682   0.014404    0.3528605  -0.20564307  0.46098834 -0.10283165\n",
      "  0.4224083  -0.319425    0.08430201 -0.02423007  0.16096866 -0.1793306\n",
      " -0.3266019  -0.11574365  0.13026729 -0.01606535 -0.32017583  0.07583076\n",
      "  0.39621258 -0.471141   -0.15413631 -0.3570973  -0.170429   -0.16477741\n",
      " -0.079702   -0.1156654   0.17618676  0.10509842  0.06784905 -0.34512395\n",
      " -0.4604558   0.05118201  0.00567017 -0.11102057 -0.08460667 -0.07754844\n",
      " -0.04305608  0.01135347  0.15634727  0.6197633  -0.06252407 -0.21855778\n",
      " -0.02534772 -0.03352983 -0.17143343 -0.61281633  0.3672553   0.200553\n",
      "  0.11173716 -0.04867266 -0.3467513  -0.07817795 -0.15132071  0.07736051\n",
      "  0.18020189 -0.34585544 -0.13336997  0.06416812  0.06578889  0.1404388\n",
      "  0.10078853  0.00337321  0.02966571  0.2589222  -0.32765755  0.11473403\n",
      "  0.194843    0.18232657  0.10310116 -0.3541476  -0.09251373  0.14323163\n",
      " -0.45273566 -0.02745033 -0.06704459 -0.3692405   0.63307005  0.12094199\n",
      " -0.12270565 -0.16861504 -0.02237775  0.18317828  0.0656625   0.23178981\n",
      "  0.16461478  0.22716378  0.19256468  0.07329223  0.07929553  0.00617964\n",
      " -0.06992846  0.22519948 -0.3898914  -0.27976155  0.1046299  -0.21128806\n",
      "  0.19433716 -0.3192374   0.05115284 -0.10861053  0.2021018  -0.06938462\n",
      "  0.04780861 -0.03951291 -0.15745877 -0.5209315   0.5240108  -0.2503205\n",
      " -0.0772169   0.13770026  0.1478703  -0.0007457   0.36419037 -0.07768219\n",
      " -0.11513575  0.29397142 -0.13411012 -0.16843525 -0.06789586 -0.04888494\n",
      " -0.19224408  0.01774979  0.00219405 -0.08598584 -0.01270726 -0.5466841\n",
      "  0.09859204  0.23603453]\n",
      "group 39 centroid: [ 0.11147352  0.11132146 -0.02031229 -0.17261915  0.11442941 -0.24523416\n",
      "  0.07011609 -0.1149065   0.04466242 -0.08620035  0.01484494  0.08761237\n",
      " -0.10131971  0.04109501  0.04958439 -0.0867039   0.0351579   0.05700414\n",
      " -0.03396776 -0.18627907  0.10139372 -0.01691526  0.11661936 -0.13828127\n",
      " -0.10423958 -0.12758937 -0.05825086 -0.08118695  0.11648802 -0.08258478\n",
      " -0.1872006  -0.192719   -0.21772625  0.05576818 -0.13397361 -0.05861365\n",
      " -0.16934946  0.18094583  0.01046346 -0.11645363 -0.15360095  0.00091093\n",
      " -0.08019781  0.11110307  0.01181779 -0.12249529 -0.0162873   0.0465959\n",
      "  0.04530163 -0.13249642 -0.00382976  0.05638173 -0.06875018  0.00564628\n",
      "  0.20393614 -0.08951215  0.10842917  0.08304061  0.07955879  0.10690629\n",
      "  0.10216217 -0.0166951  -0.11974809 -0.02603283  0.05645502  0.16418988\n",
      "  0.03828351  0.06852753  0.1030037   0.15496807 -0.1414618   0.04796434\n",
      " -0.14182165 -0.02726514  0.1653783  -0.00367582 -0.00659943  0.09010268\n",
      "  0.08430132 -0.14746806 -0.04860796  0.05629244  0.17282556  0.01750288\n",
      "  0.06032072  0.14893942 -0.01753868  0.05645519 -0.05174806 -0.01121122\n",
      "  0.0803424  -0.15932012  0.01548729  0.04034533 -0.04038386 -0.02427906\n",
      " -0.07917005  0.02479179  0.12614347  0.03958902  0.13259313 -0.13931721\n",
      " -0.0391022   0.04480695  0.03871603 -0.04336711  0.05503733 -0.04991695\n",
      "  0.05720435  0.16212514  0.10178927  0.18216215 -0.06471298 -0.01505243\n",
      "  0.16901632  0.19453357  0.00452422 -0.03258544 -0.14068301 -0.00607216\n",
      " -0.16259828 -0.0045254  -0.07183082 -0.11335722 -0.04391271  0.04103914\n",
      "  0.07695037  0.0299728 ]\n",
      "group 40 centroid: [-0.06579641  0.05327529  0.13898928 -0.06562728  0.02882026 -0.189069\n",
      " -0.01315455 -0.20044833  0.09457447 -0.07131708 -0.03823323 -0.05457218\n",
      " -0.02242398  0.0134567   0.05946353 -0.01505103 -0.07089272 -0.01531995\n",
      " -0.02988717 -0.01824055 -0.06093062  0.07897308 -0.10765731 -0.04994761\n",
      " -0.03425927  0.06462245  0.06848065 -0.03200904  0.03395601 -0.00301514\n",
      " -0.00945872 -0.1244883  -0.07615379  0.08901212 -0.16111046 -0.09698336\n",
      " -0.0519677   0.13655609  0.08699255  0.07376074 -0.12289341  0.05543776\n",
      "  0.11410939  0.09588419 -0.06293806 -0.19327576  0.04502455 -0.06970293\n",
      " -0.0571251   0.0640016  -0.0951331   0.05914308  0.00984355  0.09335499\n",
      " -0.02940886 -0.06438363 -0.07059569 -0.09701569 -0.01099083 -0.01505609\n",
      " -0.09737054  0.00173993 -0.07102794 -0.07341836 -0.06791287  0.11412666\n",
      "  0.06612445  0.00568535 -0.06668709  0.05953452 -0.0068777   0.05502278\n",
      "  0.00793349  0.02606306  0.07834882 -0.1132654   0.04010645  0.05160587\n",
      " -0.00654469 -0.02568801 -0.06450818  0.08451506  0.07863089  0.2591681\n",
      "  0.01750768  0.0366106   0.04458791  0.056472   -0.05804691 -0.00670935\n",
      "  0.10446785 -0.09285586  0.02285149 -0.03965224  0.0306655   0.03538333\n",
      " -0.00248549  0.02615832 -0.01356832  0.0970206   0.27329832 -0.08380053\n",
      "  0.08474159 -0.00654365  0.12316435 -0.18746261  0.08115406  0.03981084\n",
      "  0.11773916  0.14486605  0.15301257 -0.08201996  0.18904363 -0.02819489\n",
      "  0.08844505 -0.10748294 -0.01317299 -0.01968557 -0.18814906 -0.11490421\n",
      "  0.1042777   0.16526714 -0.21752374 -0.14273381 -0.00191197  0.0379426\n",
      " -0.03680621 -0.00033653]\n",
      "group 41 centroid: [-1.03668161e-01 -2.10750103e-02  6.06770776e-02 -3.22181992e-02\n",
      " -1.44843638e-01 -1.80712163e-01 -1.39991641e-01 -2.19676241e-01\n",
      "  1.29121229e-01 -5.65791465e-02 -2.80080531e-02  8.16529766e-02\n",
      " -1.38205931e-01 -1.05478697e-01  1.06844410e-01 -1.96405947e-01\n",
      " -1.01472309e-03  2.07252544e-03  7.20696226e-02 -5.74495792e-02\n",
      "  7.56351510e-03 -1.01011306e-01  1.37808770e-01 -3.27103257e-01\n",
      " -1.43253773e-01  4.86208424e-02 -5.09754345e-02 -8.94665420e-02\n",
      " -1.29109239e-02 -1.02333076e-01  1.00316845e-01 -8.25798884e-02\n",
      " -2.01198623e-01 -6.19508326e-02 -1.47741362e-01 -2.79986649e-03\n",
      " -4.74580713e-02  1.53302789e-01  1.22719526e-01  2.57771965e-02\n",
      " -1.77909136e-01  4.81193252e-02 -7.69090801e-02 -3.85741564e-03\n",
      "  8.28672647e-02 -1.80962160e-01 -2.92093586e-02  1.97618857e-01\n",
      "  7.32354261e-03 -1.31201461e-01 -6.83004260e-02 -3.37900743e-02\n",
      "  7.20887259e-02  3.56401987e-02  1.99530929e-01 -2.12758005e-01\n",
      "  1.34436086e-01  2.62747705e-01  2.46980414e-01 -4.24777046e-02\n",
      "  2.93361433e-02  1.16373841e-02  2.94407457e-02  1.88869879e-01\n",
      " -2.47074544e-01  1.03956036e-01  4.58771028e-02 -2.02868834e-01\n",
      "  1.49024636e-01  7.94563293e-02 -6.87289760e-02 -9.23766494e-02\n",
      " -2.13197634e-01 -1.59566119e-01 -1.00551322e-01 -5.10189347e-02\n",
      " -7.68198073e-02  1.41515389e-01  9.59756151e-02 -8.41377005e-02\n",
      "  1.25020579e-01 -1.28761664e-01  2.22803205e-01  2.23264262e-01\n",
      "  8.55923966e-02  2.92025626e-01 -6.23569731e-03 -7.87752569e-02\n",
      "  8.08503479e-02  1.93838477e-02  1.53279394e-01 -2.19337478e-01\n",
      " -2.81677339e-02  3.24671194e-02 -1.58417612e-01 -6.28599450e-02\n",
      "  1.82973463e-02 -5.90729378e-02  2.74888203e-02 -5.45482226e-02\n",
      "  1.96619749e-01 -9.73082930e-02  7.63192400e-02  4.80954349e-02\n",
      "  1.66260257e-01 -3.19511324e-01  1.17943726e-01 -5.46530746e-02\n",
      "  1.93464831e-01  1.79315478e-01  2.10647777e-01 -5.14807142e-02\n",
      " -5.46855479e-02 -1.14809088e-01  7.83017203e-02  7.99552575e-02\n",
      " -1.44057527e-01  7.84464255e-02 -5.19064292e-02  6.55587092e-02\n",
      "  7.39824399e-02 -7.39906281e-02 -3.10004447e-02 -2.02236295e-01\n",
      " -1.48615107e-01 -1.09005377e-01 -3.00306603e-02 -2.02385781e-04]\n",
      "group 42 centroid: [-1.20823656e-03  4.08237148e-03 -6.49881695e-05  9.74521681e-04\n",
      " -1.28203770e-03  3.88625264e-03 -6.99385942e-04  4.34863009e-03\n",
      "  8.01418908e-04  1.26555748e-03  7.08708074e-04 -2.66893511e-03\n",
      " -2.28756733e-04 -4.27141925e-03 -2.81948014e-04 -1.99564645e-04\n",
      "  1.23865076e-03  2.19968357e-03  1.16290990e-03 -5.99786057e-04\n",
      "  1.54179591e-03  1.90377829e-03  1.76561251e-03 -4.04104037e-04\n",
      " -1.55194651e-03  1.13175414e-03 -4.28087049e-04  1.76019952e-04\n",
      " -2.44792504e-03  1.26903015e-03  2.52209860e-03 -9.48716246e-04\n",
      "  1.48392259e-03 -7.05461949e-04 -1.10910775e-03 -5.67859097e-04\n",
      " -2.90057505e-03  9.24203545e-04  1.47747283e-03 -1.23578683e-03\n",
      "  2.16798671e-03 -1.73998100e-03 -1.33748748e-03  1.57004339e-03\n",
      "  3.19443340e-03  4.01754351e-03 -1.25479267e-03 -2.01686914e-03\n",
      "  3.55363241e-03 -1.02289843e-04 -3.83077597e-04 -1.62607897e-03\n",
      " -1.12153916e-03 -1.03534479e-03  1.29975018e-03  1.65057532e-03\n",
      "  2.59315525e-03  3.63899581e-03  1.39096973e-03 -3.29117087e-04\n",
      " -3.62141151e-03 -1.42338581e-03  1.93991087e-04 -2.93696253e-03\n",
      " -1.23777136e-03  1.19656522e-03 -4.34572855e-03  1.60682073e-03\n",
      "  2.07087840e-03  2.18358194e-03  2.86322320e-03  1.29901094e-03\n",
      "  1.38882488e-05  1.21435302e-03 -5.41868561e-04  4.50062193e-03\n",
      "  6.58488309e-04 -9.54526768e-04  7.33610592e-04  4.18779301e-03\n",
      "  2.21084198e-03 -2.05489947e-03  3.63206654e-03  4.98250243e-04\n",
      "  2.65611475e-03  1.96249690e-03 -8.80157517e-04  1.34832610e-03\n",
      "  6.85481995e-04  2.14224099e-03  2.86301086e-03 -2.32979422e-04\n",
      "  2.22745104e-04  3.90238012e-03  6.47773268e-04  1.07899425e-03\n",
      " -4.67467727e-03  3.59081128e-03  3.91403819e-03  3.40192579e-03\n",
      " -3.30911134e-03  8.87696340e-04 -1.57522294e-03 -1.83850329e-03\n",
      " -9.10378352e-04  1.11288784e-04  6.24246954e-04 -4.24567750e-03\n",
      " -1.37242395e-03 -1.19846617e-03 -1.76844842e-04  4.29057582e-05\n",
      " -2.77900882e-03  2.69670435e-03 -1.48560561e-03  2.67386436e-03\n",
      " -1.69684296e-04 -1.59512361e-04 -1.33561261e-03 -7.03035737e-04\n",
      " -1.88606826e-03  1.01448270e-03  4.48637502e-03 -1.84086920e-03\n",
      " -2.77463836e-03 -2.47346412e-04  2.56185932e-03 -1.98793807e-03]\n",
      "group 43 centroid: [-0.20300798 -0.01014703  0.08499578 -0.28205606  0.15764076 -0.2609158\n",
      "  0.33401266 -0.20875882  0.2377421   0.15383714  0.03805361 -0.33509666\n",
      " -0.42706954 -0.2889618  -0.2894473   0.15180367  0.08246195  0.090859\n",
      " -0.24217275  0.37949684 -0.14577809 -0.33433706  0.20593539  0.08415919\n",
      "  0.19943415 -0.28336766 -0.12728631 -0.28034192 -0.17281216 -0.33073243\n",
      "  0.14125086  0.08995586  0.03463598  0.04338415  0.25848308 -0.14877091\n",
      " -0.20450455  0.2967808   0.23785532  0.34158048 -0.26526368 -0.0831733\n",
      "  0.16444093 -0.3294816   0.32016793 -0.13949887 -0.12789126  0.19462284\n",
      "  0.09401824  0.23923557 -0.05422992 -0.15053195  0.16207978 -0.17987317\n",
      " -0.09743465  0.01936488 -0.18244678  0.10674486  0.1657529  -0.16700839\n",
      "  0.11631202 -0.11053244 -0.12789355  0.24160482 -0.37252244  0.11818822\n",
      " -0.09602276 -0.24965806 -0.05060003  0.2798331   0.21449044  0.2644469\n",
      " -0.4096011  -0.2460117  -0.10939267 -0.06644519 -0.32964155 -0.20985252\n",
      "  0.18348953  0.19397078  0.17815311 -0.21649136 -0.07324976  0.04716262\n",
      " -0.00756203  0.2184064  -0.37995884  0.12304401 -0.15319683 -0.24487847\n",
      "  0.21891612 -0.1598082  -0.2652088   0.16177009 -0.21123247  0.26603466\n",
      " -0.29937148 -0.33669037  0.16773483 -0.0994851  -0.24417855 -0.15122132\n",
      "  0.2723514  -0.21717595 -0.22484954 -0.30782056 -0.2262928   0.21386\n",
      "  0.18125296  0.07624681 -0.09852142 -0.20468783  0.35742164  0.2236238\n",
      "  0.22873142  0.25548387 -0.15529718 -0.22768225 -0.01554257  0.10723396\n",
      " -0.41391626 -0.312533    0.11914343 -0.1455975  -0.28030124 -0.4568205\n",
      " -0.31123474  0.23858216]\n",
      "group 44 centroid: [-0.06294727  0.06008579 -0.0073359   0.00275755  0.11142162 -0.23093025\n",
      " -0.04824074 -0.26288477  0.185033   -0.30556273 -0.0544779   0.03722305\n",
      " -0.00817027  0.07256544  0.06307153 -0.05606253  0.12901658  0.11134423\n",
      " -0.18139823  0.07824237  0.1609663   0.31140763 -0.17671713 -0.16573201\n",
      " -0.12989224  0.17167917  0.20114404  0.03228869  0.24642374 -0.01171156\n",
      "  0.17849016 -0.1430176  -0.1010182   0.17868562 -0.15149076 -0.05131409\n",
      " -0.06461222  0.21414739  0.09388912  0.33075893  0.00620817  0.03201809\n",
      "  0.15460846  0.16795143 -0.3310177  -0.11273555 -0.05831126 -0.01536566\n",
      " -0.24932261  0.21315977  0.16756326  0.13402942 -0.00384311  0.09898064\n",
      " -0.21737601  0.09399405 -0.12116906 -0.28681913 -0.01304398  0.22301656\n",
      " -0.27635708 -0.04157369 -0.12005647 -0.14051728  0.03026717  0.1511888\n",
      "  0.07351101  0.05004801 -0.10294963 -0.17925519 -0.16915259 -0.03398227\n",
      "  0.0981861   0.13475011  0.02937443 -0.01853465 -0.07781903  0.02618885\n",
      " -0.09863651  0.05143583  0.27637902  0.10372778  0.24617004  0.03222624\n",
      "  0.0685319  -0.22498158  0.15499684  0.01598632  0.18209945  0.11787876\n",
      "  0.1663776   0.04784677  0.01031579 -0.22444507  0.11002415  0.12072021\n",
      " -0.00953875  0.10432642 -0.19745675  0.08950005  0.33556557 -0.03795433\n",
      "  0.03595433 -0.06038989  0.05734017 -0.067095   -0.1744721   0.1828063\n",
      "  0.19408216  0.1185004   0.00204887 -0.20365049  0.1845881  -0.12249093\n",
      "  0.03883497 -0.01399862  0.24860804 -0.2714377  -0.18444508 -0.19330837\n",
      "  0.01830992  0.39248577 -0.3886477  -0.26999182 -0.02227592  0.17277859\n",
      " -0.05918176  0.03642324]\n",
      "group 45 centroid: [-0.01380059  0.13391945 -0.14226577  0.03225045  0.01056074 -0.14994931\n",
      " -0.03903927  0.01533277  0.16989218 -0.12241248 -0.14898337 -0.02861941\n",
      "  0.03665889 -0.0115444   0.10204069  0.00238762  0.11095804  0.06825069\n",
      "  0.21154293  0.04360915 -0.00671801  0.01294302 -0.12214114 -0.1737922\n",
      "  0.13220626  0.05983813 -0.00456715 -0.10291075  0.21514507  0.04483043\n",
      "  0.06157459  0.03446398 -0.01186084  0.23629296  0.03497568 -0.04146513\n",
      "  0.05431678  0.12914641  0.07756475  0.10569812 -0.16993162  0.20177346\n",
      " -0.13965508 -0.03669231 -0.12419145 -0.09490607 -0.11626337 -0.01514808\n",
      " -0.0386782   0.05703644 -0.03646657  0.05480847  0.0425647  -0.02051449\n",
      " -0.00844791  0.04314009 -0.19127104 -0.14460377  0.01683656  0.06040063\n",
      "  0.01639948 -0.09487114 -0.05088445  0.02756104  0.06499479  0.01222498\n",
      "  0.11920288 -0.08169542  0.02491488  0.03761603  0.07277173  0.01221057\n",
      " -0.09956599 -0.04598353  0.18150526 -0.13694945 -0.04099249 -0.02509445\n",
      " -0.03534349  0.05312688 -0.07076912  0.04516619 -0.01855388 -0.01935722\n",
      " -0.14035787  0.11502895 -0.03622784 -0.0317299   0.02892628 -0.03209114\n",
      " -0.04945425  0.05877703 -0.04898782 -0.19559486  0.0247975   0.00947346\n",
      " -0.10529593  0.05022322 -0.08844659  0.14102904  0.09586264 -0.20081066\n",
      " -0.03761225 -0.03441205  0.20660672  0.03493369 -0.15537144  0.04637509\n",
      "  0.09259053  0.09166443 -0.18433034 -0.09239548  0.11791982 -0.10670216\n",
      " -0.05352685 -0.16157621 -0.04155036  0.1471481  -0.03244743 -0.22449945\n",
      "  0.13268225  0.14645886 -0.20426066 -0.25599325 -0.251785   -0.12319647\n",
      "  0.0169488  -0.1748617 ]\n",
      "group 46 centroid: [ 0.12369861  0.01099783  0.05515395 -0.17989373  0.1535377   0.07017861\n",
      " -0.00980643  0.05350965  0.08627225 -0.04946436 -0.06745238 -0.00056519\n",
      " -0.04091757 -0.01304761 -0.04921454 -0.04429864 -0.09499341  0.04795397\n",
      " -0.05357554  0.00348449 -0.07858175 -0.11941314 -0.06456414  0.02588013\n",
      " -0.06965312 -0.19370241  0.20372313 -0.05931151 -0.02812997 -0.18016763\n",
      " -0.2492171  -0.03514482 -0.04244705  0.20690413  0.05587954  0.06728148\n",
      "  0.07037735  0.0693457   0.06464466  0.08784491 -0.05106647  0.04339891\n",
      " -0.00720279 -0.0655157  -0.01789016 -0.1377519   0.163348    0.10249631\n",
      " -0.01995437  0.04920143 -0.01309625 -0.13826256 -0.03047775 -0.10941353\n",
      " -0.06744261 -0.09222741 -0.00248587  0.10724378  0.11865713 -0.11313237\n",
      " -0.12395491 -0.05574501 -0.17209817  0.05112743 -0.08849653  0.06240024\n",
      "  0.13294333 -0.16994298  0.05037391  0.1469568  -0.02968808 -0.11770546\n",
      " -0.09991726 -0.19680238 -0.06161429  0.00980482  0.17071752 -0.00902297\n",
      " -0.0256893  -0.08074437 -0.04235443 -0.06030354  0.10732253  0.03506964\n",
      "  0.05638916 -0.02619942 -0.16825816 -0.0280481   0.01641577 -0.03799278\n",
      "  0.12188926 -0.07281334 -0.07028491  0.02963919  0.0190295  -0.0341699\n",
      "  0.09982393 -0.13690513  0.09416661  0.08511198  0.14308815 -0.14460352\n",
      "  0.03094191 -0.05793633  0.09326969 -0.05244375  0.02963515 -0.02498066\n",
      "  0.16229822  0.09458914  0.01931006  0.0280481   0.17111264  0.05887295\n",
      " -0.10003573  0.11585455  0.04130601  0.00427958 -0.13703617  0.01198086\n",
      " -0.04348073  0.00961115  0.07549608 -0.14135833 -0.14928958 -0.16828743\n",
      "  0.04788461 -0.05530706]\n",
      "group 47 centroid: [-0.07629867  0.1619894   0.01696828 -0.00998955  0.00204806 -0.14757574\n",
      "  0.12373602 -0.28236282  0.05436367  0.23340285  0.11950822  0.04763177\n",
      " -0.05177176 -0.04405531  0.3818091  -0.04783032  0.32983375  0.35308334\n",
      " -0.02820293 -0.03041834 -0.15903756 -0.26090986 -0.38471434 -0.12506308\n",
      "  0.19466813 -0.27051383  0.06782793 -0.19213267  0.02089777 -0.31061321\n",
      " -0.22529927  0.05048613 -0.4652698  -0.09865757 -0.04903062 -0.04822629\n",
      "  0.18314797  0.07901727 -0.15032788  0.4960582  -0.32828742  0.28165114\n",
      "  0.08496169 -0.08628407  0.34075892 -0.06521364 -0.01695184 -0.03779153\n",
      "  0.04469677 -0.15098692 -0.29021716 -0.14052428 -0.18731835  0.11559901\n",
      "  0.37903085 -0.50952965 -0.06173063 -0.07227665  0.0855719  -0.0802989\n",
      " -0.45223492 -0.00681709 -0.06851376  0.48022854 -0.20608486  0.3228705\n",
      "  0.13892116 -0.05752692  0.16750652  0.29115385 -0.13567036 -0.00740409\n",
      " -0.2018738   0.02563093 -0.33779272  0.22790048 -0.422455   -0.05202545\n",
      " -0.07958189 -0.15747923  0.42055312 -0.26639488  0.12465879  0.45058823\n",
      "  0.27989805  0.25149292 -0.08624959  0.163222    0.1264173  -0.2410195\n",
      " -0.20909865  0.23160835  0.07903638  0.15080142 -0.10987781  0.2963806\n",
      "  0.08279331 -0.07073732  0.19518517 -0.4148259  -0.1699634  -0.23653756\n",
      "  0.099371   -0.02855511  0.087822   -0.18573791  0.25817126 -0.29978365\n",
      "  0.14344531  0.25098422 -0.05028928  0.16546221  0.12954518  0.23955669\n",
      "  0.07414042  0.41033065 -0.41989598  0.17888488 -0.1005793   0.05627296\n",
      " -0.4000272   0.03063481 -0.03956017 -0.3113311  -0.17939557 -0.1006136\n",
      " -0.2030902  -0.2860651 ]\n",
      "group 48 centroid: [-0.11475164  0.1045704  -0.04683945 -0.09864467 -0.01355241 -0.0669639\n",
      " -0.04285897  0.02682307  0.06102247 -0.02017516 -0.02579671 -0.07431991\n",
      " -0.0236642   0.10813414 -0.12487409 -0.01739816  0.04527659  0.05796075\n",
      "  0.08021685 -0.01349064 -0.06502944 -0.05547941 -0.05775928  0.00648384\n",
      " -0.03633667 -0.03795408 -0.0380445  -0.01575114  0.13789757 -0.04451952\n",
      " -0.08240946  0.02969601 -0.10004836  0.17188878  0.02266517 -0.05831536\n",
      " -0.03362017  0.09855536  0.0485044  -0.00920716 -0.06951543  0.02644232\n",
      " -0.01680551 -0.10052407  0.02680574  0.00146052 -0.06167711  0.16850913\n",
      "  0.07985716  0.02154906 -0.01503132 -0.01638212 -0.11495753  0.0578124\n",
      "  0.01213788  0.05164649 -0.00308268 -0.0072581  -0.05882039 -0.07308869\n",
      "  0.01645928 -0.00537315 -0.02494813  0.03842406  0.04467967  0.05594921\n",
      "  0.00441155 -0.0623119   0.00578392 -0.03344573  0.03227814 -0.053682\n",
      "  0.03026425 -0.05896872  0.02685098 -0.05057799  0.06540511  0.0093591\n",
      "  0.09031655 -0.06701842 -0.04410708  0.0113769   0.01247503  0.0435467\n",
      "  0.00060462 -0.1125961  -0.10685163 -0.02370415 -0.02294581 -0.052845\n",
      "  0.04191504 -0.0024523  -0.07713504 -0.00962737 -0.0191542   0.12268466\n",
      " -0.042626   -0.03629652  0.06932686  0.04063908  0.00308361 -0.10139403\n",
      "  0.0431371   0.01426941  0.06127925 -0.07616986 -0.02147482  0.00975095\n",
      "  0.08914559  0.0792725  -0.01400853 -0.05012305  0.20261684  0.03037868\n",
      " -0.06755316  0.01529392  0.04598698 -0.02421672 -0.1175193  -0.06310057\n",
      " -0.04647484 -0.09871948 -0.01947447 -0.07085383 -0.11637906 -0.03651833\n",
      "  0.08585437  0.04717021]\n",
      "group 49 centroid: [-0.03016475 -0.03962834 -0.03102262  0.01697004  0.0420243  -0.00622147\n",
      "  0.00021663 -0.00473317 -0.0100073   0.02637286  0.00368075 -0.03448\n",
      " -0.0493531  -0.04108999 -0.01607727 -0.00714176 -0.03374445  0.00855349\n",
      " -0.03539169 -0.02586582 -0.00348892  0.02900418 -0.02447786  0.01517783\n",
      "  0.03065512 -0.03659704  0.00862181  0.01046058  0.01346337 -0.01696534\n",
      "  0.00424347 -0.03111793 -0.00756185  0.00933034 -0.00380508  0.00206283\n",
      "  0.02819801 -0.01159896  0.00843238  0.02573757  0.01665333 -0.04000773\n",
      "  0.0169768  -0.01742275 -0.01866131  0.01070463  0.00971131 -0.04183067\n",
      "  0.00919729 -0.04963861 -0.04242575  0.00812627 -0.03588135 -0.001587\n",
      "  0.00205994  0.00177772 -0.03000108 -0.02159607  0.0288026  -0.00657709\n",
      " -0.04645299 -0.0067348   0.00984961  0.03379535  0.01775925  0.02744979\n",
      "  0.01094037  0.0026028   0.01284946  0.01144751  0.01346263  0.00548303\n",
      "  0.04665558  0.02950155 -0.024191    0.04153316 -0.00271902 -0.04111218\n",
      " -0.04705961  0.00094279  0.0289358   0.02716744 -0.03045162 -0.00426549\n",
      " -0.00477087 -0.024724   -0.03934761  0.00090044  0.01495831  0.04092933\n",
      "  0.01228005  0.01255126  0.04592326  0.00571998  0.00244958  0.01478134\n",
      "  0.02051431  0.01314593 -0.02418474  0.00137062 -0.02860921  0.04491115\n",
      "  0.01374855 -0.03331623  0.01303354  0.01168686  0.04537301  0.04820141\n",
      "  0.01904224  0.03253711  0.01902541  0.02913276 -0.03630032 -0.02120625\n",
      "  0.01851063 -0.01382118  0.04217419  0.00913053  0.03391862  0.01810882\n",
      " -0.00731307  0.03040779  0.04485914 -0.00364045  0.02541559  0.04229214\n",
      "  0.02749543 -0.03054134]\n",
      "objective (cost) : 231555.453125\n"
     ]
    }
   ],
   "source": [
    "from sklearn.cluster import MiniBatchKMeans\n",
    "from sklearn.metrics import silhouette_score\n",
    "\n",
    "# number of clusters\n",
    "k = 50\n",
    "kmeans = MiniBatchKMeans(n_clusters=k, random_state=42, batch_size=2048)\n",
    "y_pred = kmeans.fit_predict(weights)\n",
    "\n",
    "# bath refer to the same object\n",
    "print(f'The assigned labels : {kmeans.labels_} which is the same as y_pred')\n",
    "print(f'First three points labels {y_pred[:3]}')\n",
    "print(f'Silhouette Score is: {silhouette_score(weights, kmeans.labels_)}')\n",
    "\n",
    "print(f'The {len(kmeans.cluster_centers_)} centroids')\n",
    "print('\\n'.join([f'group {idx} centroid: {c}' for idx, c in enumerate(kmeans.cluster_centers_)]))\n",
    "print(f'objective (cost) : {kmeans.inertia_}')"
   ],
   "metadata": {
    "collapsed": false,
    "pycharm": {
     "name": "#%%\n"
    }
   }
  },
  {
   "cell_type": "code",
   "execution_count": 24,
   "outputs": [
    {
     "data": {
      "text/plain": "                                               embedding  cluster\nword                                                             \nhotel  [-0.12856515, 0.15770362, 0.06505656, 0.234301...       19\nroom   [-0.08665641, 0.22643305, 0.17230006, 0.242368...       21\ngreat  [0.18022697, -0.051985245, 0.3708178, -0.03778...       46\nstay   [-0.048565857, 0.11214562, -0.022309598, 0.208...       19\ngood   [0.07658313, -0.07445546, 0.08375567, -0.03007...       46",
      "text/html": "<div>\n<style scoped>\n    .dataframe tbody tr th:only-of-type {\n        vertical-align: middle;\n    }\n\n    .dataframe tbody tr th {\n        vertical-align: top;\n    }\n\n    .dataframe thead th {\n        text-align: right;\n    }\n</style>\n<table border=\"1\" class=\"dataframe\">\n  <thead>\n    <tr style=\"text-align: right;\">\n      <th></th>\n      <th>embedding</th>\n      <th>cluster</th>\n    </tr>\n    <tr>\n      <th>word</th>\n      <th></th>\n      <th></th>\n    </tr>\n  </thead>\n  <tbody>\n    <tr>\n      <th>hotel</th>\n      <td>[-0.12856515, 0.15770362, 0.06505656, 0.234301...</td>\n      <td>19</td>\n    </tr>\n    <tr>\n      <th>room</th>\n      <td>[-0.08665641, 0.22643305, 0.17230006, 0.242368...</td>\n      <td>21</td>\n    </tr>\n    <tr>\n      <th>great</th>\n      <td>[0.18022697, -0.051985245, 0.3708178, -0.03778...</td>\n      <td>46</td>\n    </tr>\n    <tr>\n      <th>stay</th>\n      <td>[-0.048565857, 0.11214562, -0.022309598, 0.208...</td>\n      <td>19</td>\n    </tr>\n    <tr>\n      <th>good</th>\n      <td>[0.07658313, -0.07445546, 0.08375567, -0.03007...</td>\n      <td>46</td>\n    </tr>\n  </tbody>\n</table>\n</div>"
     },
     "execution_count": 24,
     "metadata": {},
     "output_type": "execute_result"
    }
   ],
   "source": [
    "word_vectors_table['cluster'] = y_pred\n",
    "word_vectors_table.head()"
   ],
   "metadata": {
    "collapsed": false,
    "pycharm": {
     "name": "#%%\n"
    }
   }
  },
  {
   "cell_type": "markdown",
   "source": [
    "Now that we clustered the embeddings into 50 clusters using K-Means, let us show the top (by cosine similarity to the clusters' centroid) words in some clusters:"
   ],
   "metadata": {
    "collapsed": false,
    "pycharm": {
     "name": "#%% md\n"
    }
   }
  },
  {
   "cell_type": "code",
   "execution_count": 33,
   "outputs": [],
   "source": [
    "from typing import List, Tuple\n",
    "\n",
    "def top_words_in_cluster(clustered_word_vectors: pd.DataFrame, cluster: int, cluster_centroid: np.ndarray, num_words: int = 10) -> List[Tuple[str, float]]:\n",
    "    in_cluster_word_vectors = clustered_word_vectors.loc[clustered_word_vectors.cluster == cluster]\n",
    "\n",
    "    weights = np.asarray(list(in_cluster_word_vectors.embedding.values))\n",
    "    similarities = cosine_similarity(cluster_centroid.reshape(1, -1), weights).flatten()\n",
    "\n",
    "    most_similar_idxs = np.argsort(similarities)[::-1][1:num_words + 1]  # skip the word itself\n",
    "    return [(in_cluster_word_vectors.index[idx], similarities[idx]) for idx in most_similar_idxs]"
   ],
   "metadata": {
    "collapsed": false,
    "pycharm": {
     "name": "#%%\n"
    }
   }
  },
  {
   "cell_type": "code",
   "execution_count": 58,
   "outputs": [
    {
     "name": "stdout",
     "output_type": "stream",
     "text": [
      "\n",
      "=============================================================================\n",
      "'Cluster=0: Names'\n",
      "\n",
      "[('marti', 0.7604393),\n",
      " ('vicki', 0.7475498),\n",
      " ('krys', 0.74563503),\n",
      " ('chris', 0.7382754),\n",
      " ('tucker', 0.7381747),\n",
      " ('christine', 0.7336802),\n",
      " ('cheung', 0.72916543),\n",
      " ('pooja', 0.7273822),\n",
      " ('antonella', 0.72518575),\n",
      " ('brian', 0.7215791),\n",
      " ('pedro', 0.72157717),\n",
      " ('richard', 0.7185788),\n",
      " ('sanjana', 0.71558297),\n",
      " ('rafal', 0.7134166),\n",
      " ('foulla', 0.7128601),\n",
      " ('jackie', 0.7120307),\n",
      " ('rajat', 0.7099564),\n",
      " ('cheryl', 0.70985585),\n",
      " ('willie', 0.7093985),\n",
      " ('ron', 0.7090936)]\n",
      "\n",
      "=============================================================================\n",
      "'Cluster=46: Positive descriptions of locations'\n",
      "\n",
      "[('execllent', 0.65722436),\n",
      " ('luxurius', 0.65119046),\n",
      " ('good', 0.6509658),\n",
      " ('loction', 0.64614356),\n",
      " ('ok', 0.64266074),\n",
      " ('amazingly', 0.6401539),\n",
      " ('locaton', 0.63912714),\n",
      " ('nice', 0.6322776),\n",
      " ('excellant', 0.6215595),\n",
      " ('location', 0.6176467),\n",
      " ('okay', 0.6168884),\n",
      " ('verry', 0.6141442),\n",
      " ('clean', 0.6097991),\n",
      " ('execellent', 0.60789335),\n",
      " ('greate', 0.60672355),\n",
      " ('surprisingly', 0.6037454),\n",
      " ('noce', 0.6017685),\n",
      " ('positives', 0.6001101),\n",
      " ('average', 0.5969459),\n",
      " ('superb', 0.59575176)]\n",
      "\n",
      "=============================================================================\n",
      "'Cluster=7: Breakfast Foods'\n",
      "\n",
      "[('pastries', 0.83073676),\n",
      " ('hardboiled', 0.8303579),\n",
      " ('kelloggs', 0.82439315),\n",
      " ('butters', 0.8229085),\n",
      " ('yogurt', 0.82288635),\n",
      " ('cereals', 0.82158744),\n",
      " ('conserves', 0.8195625),\n",
      " ('toast', 0.81353915),\n",
      " ('yogurts', 0.81044894),\n",
      " ('muffins', 0.80826),\n",
      " ('oatmeal', 0.80739516),\n",
      " ('cerals', 0.8042164),\n",
      " ('bread', 0.80410844),\n",
      " ('yoghurt', 0.803676),\n",
      " ('breadrolls', 0.8027921),\n",
      " ('ham', 0.7969062),\n",
      " ('quiche', 0.7953612),\n",
      " ('porridge', 0.7931793),\n",
      " ('croissants', 0.792338),\n",
      " ('toasts', 0.7920998)]\n",
      "\n",
      "=============================================================================\n",
      "'Cluster=3: Clothes'\n",
      "\n",
      "[('blazer', 0.70891804),\n",
      " ('scarf', 0.6995512),\n",
      " ('shirts', 0.6848581),\n",
      " ('embroidered', 0.6844736),\n",
      " ('baggy', 0.6772258),\n",
      " ('apron', 0.6618799),\n",
      " ('teddies', 0.6605494),\n",
      " ('scarves', 0.6577958),\n",
      " ('dressy', 0.6575929),\n",
      " ('fingernail', 0.6560516),\n",
      " ('floss', 0.65489924),\n",
      " ('origami', 0.64931273),\n",
      " ('thongs', 0.6484764),\n",
      " ('panties', 0.64529276),\n",
      " ('crocs', 0.6451185),\n",
      " ('sweatshirts', 0.64492804),\n",
      " ('sleeves', 0.6445974),\n",
      " ('denim', 0.6439814),\n",
      " ('cufflinks', 0.64153373),\n",
      " ('vest', 0.64136314)]\n"
     ]
    }
   ],
   "source": [
    "clusters_of_interest = [0, 46, 7, 3]\n",
    "possible_cluster_categories = ['Names', 'Positive descriptions of locations', 'Breakfast Foods', 'Clothes']\n",
    "\n",
    "for cluster, category in zip(clusters_of_interest, possible_cluster_categories):\n",
    "    cluster_centroid = kmeans.cluster_centers_[cluster]\n",
    "\n",
    "    top_words = top_words_in_cluster(word_vectors_table, cluster, cluster_centroid, 20)\n",
    "\n",
    "    from pprint import pprint\n",
    "    print()\n",
    "    print('=============================================================================')\n",
    "    pprint(f'Cluster={cluster}: {category}')\n",
    "    print()\n",
    "    pprint(top_words)"
   ],
   "metadata": {
    "collapsed": false,
    "pycharm": {
     "name": "#%%\n"
    }
   }
  }
 ],
 "metadata": {
  "kernelspec": {
   "display_name": "Python 3 (ipykernel)",
   "language": "python",
   "name": "python3"
  },
  "language_info": {
   "codemirror_mode": {
    "name": "ipython",
    "version": 3
   },
   "file_extension": ".py",
   "mimetype": "text/x-python",
   "name": "python",
   "nbconvert_exporter": "python",
   "pygments_lexer": "ipython3",
   "version": "3.10.0"
  }
 },
 "nbformat": 4,
 "nbformat_minor": 1
}